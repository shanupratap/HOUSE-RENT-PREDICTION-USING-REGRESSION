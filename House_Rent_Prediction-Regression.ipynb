{
 "cells": [
  {
   "cell_type": "code",
   "execution_count": 1,
   "id": "eda9b1f3",
   "metadata": {},
   "outputs": [],
   "source": [
    "import pandas as pd\n",
    "import numpy as np\n",
    "import matplotlib.pyplot as plt\n",
    "import seaborn as sns"
   ]
  },
  {
   "cell_type": "markdown",
   "id": "f998e603",
   "metadata": {},
   "source": [
    "### Read the Dataset"
   ]
  },
  {
   "cell_type": "code",
   "execution_count": 2,
   "id": "289be677",
   "metadata": {},
   "outputs": [],
   "source": [
    "df=pd.read_csv(\"C:/Users/jyoti/OneDrive/Desktop/IMARTICUS/MACHINE LEARNING/House_Rent_Dataset.csv\")"
   ]
  },
  {
   "cell_type": "code",
   "execution_count": 3,
   "id": "08c1b9c1",
   "metadata": {},
   "outputs": [
    {
     "data": {
      "text/html": [
       "<div>\n",
       "<style scoped>\n",
       "    .dataframe tbody tr th:only-of-type {\n",
       "        vertical-align: middle;\n",
       "    }\n",
       "\n",
       "    .dataframe tbody tr th {\n",
       "        vertical-align: top;\n",
       "    }\n",
       "\n",
       "    .dataframe thead th {\n",
       "        text-align: right;\n",
       "    }\n",
       "</style>\n",
       "<table border=\"1\" class=\"dataframe\">\n",
       "  <thead>\n",
       "    <tr style=\"text-align: right;\">\n",
       "      <th></th>\n",
       "      <th>Posted On</th>\n",
       "      <th>BHK</th>\n",
       "      <th>Rent</th>\n",
       "      <th>Size</th>\n",
       "      <th>Floor</th>\n",
       "      <th>Area Type</th>\n",
       "      <th>Area Locality</th>\n",
       "      <th>City</th>\n",
       "      <th>Furnishing Status</th>\n",
       "      <th>Tenant Preferred</th>\n",
       "      <th>Bathroom</th>\n",
       "      <th>Point of Contact</th>\n",
       "    </tr>\n",
       "  </thead>\n",
       "  <tbody>\n",
       "    <tr>\n",
       "      <th>0</th>\n",
       "      <td>2022-05-18</td>\n",
       "      <td>2</td>\n",
       "      <td>10000</td>\n",
       "      <td>1100</td>\n",
       "      <td>Ground out of 2</td>\n",
       "      <td>Super Area</td>\n",
       "      <td>Bandel</td>\n",
       "      <td>Kolkata</td>\n",
       "      <td>Unfurnished</td>\n",
       "      <td>Bachelors/Family</td>\n",
       "      <td>2</td>\n",
       "      <td>Contact Owner</td>\n",
       "    </tr>\n",
       "    <tr>\n",
       "      <th>1</th>\n",
       "      <td>2022-05-13</td>\n",
       "      <td>2</td>\n",
       "      <td>20000</td>\n",
       "      <td>800</td>\n",
       "      <td>1 out of 3</td>\n",
       "      <td>Super Area</td>\n",
       "      <td>Phool Bagan, Kankurgachi</td>\n",
       "      <td>Kolkata</td>\n",
       "      <td>Semi-Furnished</td>\n",
       "      <td>Bachelors/Family</td>\n",
       "      <td>1</td>\n",
       "      <td>Contact Owner</td>\n",
       "    </tr>\n",
       "    <tr>\n",
       "      <th>2</th>\n",
       "      <td>2022-05-16</td>\n",
       "      <td>2</td>\n",
       "      <td>17000</td>\n",
       "      <td>1000</td>\n",
       "      <td>1 out of 3</td>\n",
       "      <td>Super Area</td>\n",
       "      <td>Salt Lake City Sector 2</td>\n",
       "      <td>Kolkata</td>\n",
       "      <td>Semi-Furnished</td>\n",
       "      <td>Bachelors/Family</td>\n",
       "      <td>1</td>\n",
       "      <td>Contact Owner</td>\n",
       "    </tr>\n",
       "    <tr>\n",
       "      <th>3</th>\n",
       "      <td>2022-07-04</td>\n",
       "      <td>2</td>\n",
       "      <td>10000</td>\n",
       "      <td>800</td>\n",
       "      <td>1 out of 2</td>\n",
       "      <td>Super Area</td>\n",
       "      <td>Dumdum Park</td>\n",
       "      <td>Kolkata</td>\n",
       "      <td>Unfurnished</td>\n",
       "      <td>Bachelors/Family</td>\n",
       "      <td>1</td>\n",
       "      <td>Contact Owner</td>\n",
       "    </tr>\n",
       "    <tr>\n",
       "      <th>4</th>\n",
       "      <td>2022-05-09</td>\n",
       "      <td>2</td>\n",
       "      <td>7500</td>\n",
       "      <td>850</td>\n",
       "      <td>1 out of 2</td>\n",
       "      <td>Carpet Area</td>\n",
       "      <td>South Dum Dum</td>\n",
       "      <td>Kolkata</td>\n",
       "      <td>Unfurnished</td>\n",
       "      <td>Bachelors</td>\n",
       "      <td>1</td>\n",
       "      <td>Contact Owner</td>\n",
       "    </tr>\n",
       "  </tbody>\n",
       "</table>\n",
       "</div>"
      ],
      "text/plain": [
       "    Posted On  BHK   Rent  Size            Floor    Area Type  \\\n",
       "0  2022-05-18    2  10000  1100  Ground out of 2   Super Area   \n",
       "1  2022-05-13    2  20000   800       1 out of 3   Super Area   \n",
       "2  2022-05-16    2  17000  1000       1 out of 3   Super Area   \n",
       "3  2022-07-04    2  10000   800       1 out of 2   Super Area   \n",
       "4  2022-05-09    2   7500   850       1 out of 2  Carpet Area   \n",
       "\n",
       "              Area Locality     City Furnishing Status  Tenant Preferred  \\\n",
       "0                    Bandel  Kolkata       Unfurnished  Bachelors/Family   \n",
       "1  Phool Bagan, Kankurgachi  Kolkata    Semi-Furnished  Bachelors/Family   \n",
       "2   Salt Lake City Sector 2  Kolkata    Semi-Furnished  Bachelors/Family   \n",
       "3               Dumdum Park  Kolkata       Unfurnished  Bachelors/Family   \n",
       "4             South Dum Dum  Kolkata       Unfurnished         Bachelors   \n",
       "\n",
       "   Bathroom Point of Contact  \n",
       "0         2    Contact Owner  \n",
       "1         1    Contact Owner  \n",
       "2         1    Contact Owner  \n",
       "3         1    Contact Owner  \n",
       "4         1    Contact Owner  "
      ]
     },
     "execution_count": 3,
     "metadata": {},
     "output_type": "execute_result"
    }
   ],
   "source": [
    "df.head()"
   ]
  },
  {
   "cell_type": "code",
   "execution_count": 4,
   "id": "23073167",
   "metadata": {},
   "outputs": [
    {
     "data": {
      "text/plain": [
       "(4746, 12)"
      ]
     },
     "execution_count": 4,
     "metadata": {},
     "output_type": "execute_result"
    }
   ],
   "source": [
    "df.shape\n",
    "# rows=4746 , column=12"
   ]
  },
  {
   "cell_type": "code",
   "execution_count": 5,
   "id": "85909b7b",
   "metadata": {},
   "outputs": [
    {
     "data": {
      "text/plain": [
       "Posted On            0\n",
       "BHK                  0\n",
       "Rent                 0\n",
       "Size                 0\n",
       "Floor                0\n",
       "Area Type            0\n",
       "Area Locality        0\n",
       "City                 0\n",
       "Furnishing Status    0\n",
       "Tenant Preferred     0\n",
       "Bathroom             0\n",
       "Point of Contact     0\n",
       "dtype: int64"
      ]
     },
     "execution_count": 5,
     "metadata": {},
     "output_type": "execute_result"
    }
   ],
   "source": [
    "### Preprocessing Steps\n",
    "# 1) Handling Null-Values\n",
    "df.isnull().sum()"
   ]
  },
  {
   "cell_type": "markdown",
   "id": "9078d8a4",
   "metadata": {},
   "source": [
    "#### Create a function to return Count of Null Values and Percentage of Null Value and each Feature."
   ]
  },
  {
   "cell_type": "code",
   "execution_count": 6,
   "id": "a67ac46e",
   "metadata": {},
   "outputs": [],
   "source": [
    "def Null_Count_percentage(df):\n",
    "    null_value=df.isnull().sum()\n",
    "    null_value_df=pd.DataFrame({\"Feature\":null_value.index,\"Count_Null\":null_value.values,\"Percentage_null\":(null_value.values/df.shape[0])*100})\n",
    "    null_value_df=null_value_df.sort_values(\"Percentage_null\",ascending=False)\n",
    "    return null_value_df"
   ]
  },
  {
   "cell_type": "code",
   "execution_count": 7,
   "id": "fadb170b",
   "metadata": {},
   "outputs": [
    {
     "data": {
      "text/html": [
       "<div>\n",
       "<style scoped>\n",
       "    .dataframe tbody tr th:only-of-type {\n",
       "        vertical-align: middle;\n",
       "    }\n",
       "\n",
       "    .dataframe tbody tr th {\n",
       "        vertical-align: top;\n",
       "    }\n",
       "\n",
       "    .dataframe thead th {\n",
       "        text-align: right;\n",
       "    }\n",
       "</style>\n",
       "<table border=\"1\" class=\"dataframe\">\n",
       "  <thead>\n",
       "    <tr style=\"text-align: right;\">\n",
       "      <th></th>\n",
       "      <th>Feature</th>\n",
       "      <th>Count_Null</th>\n",
       "      <th>Percentage_null</th>\n",
       "    </tr>\n",
       "  </thead>\n",
       "  <tbody>\n",
       "    <tr>\n",
       "      <th>0</th>\n",
       "      <td>Posted On</td>\n",
       "      <td>0</td>\n",
       "      <td>0.0</td>\n",
       "    </tr>\n",
       "    <tr>\n",
       "      <th>1</th>\n",
       "      <td>BHK</td>\n",
       "      <td>0</td>\n",
       "      <td>0.0</td>\n",
       "    </tr>\n",
       "    <tr>\n",
       "      <th>2</th>\n",
       "      <td>Rent</td>\n",
       "      <td>0</td>\n",
       "      <td>0.0</td>\n",
       "    </tr>\n",
       "    <tr>\n",
       "      <th>3</th>\n",
       "      <td>Size</td>\n",
       "      <td>0</td>\n",
       "      <td>0.0</td>\n",
       "    </tr>\n",
       "    <tr>\n",
       "      <th>4</th>\n",
       "      <td>Floor</td>\n",
       "      <td>0</td>\n",
       "      <td>0.0</td>\n",
       "    </tr>\n",
       "    <tr>\n",
       "      <th>5</th>\n",
       "      <td>Area Type</td>\n",
       "      <td>0</td>\n",
       "      <td>0.0</td>\n",
       "    </tr>\n",
       "    <tr>\n",
       "      <th>6</th>\n",
       "      <td>Area Locality</td>\n",
       "      <td>0</td>\n",
       "      <td>0.0</td>\n",
       "    </tr>\n",
       "    <tr>\n",
       "      <th>7</th>\n",
       "      <td>City</td>\n",
       "      <td>0</td>\n",
       "      <td>0.0</td>\n",
       "    </tr>\n",
       "    <tr>\n",
       "      <th>8</th>\n",
       "      <td>Furnishing Status</td>\n",
       "      <td>0</td>\n",
       "      <td>0.0</td>\n",
       "    </tr>\n",
       "    <tr>\n",
       "      <th>9</th>\n",
       "      <td>Tenant Preferred</td>\n",
       "      <td>0</td>\n",
       "      <td>0.0</td>\n",
       "    </tr>\n",
       "    <tr>\n",
       "      <th>10</th>\n",
       "      <td>Bathroom</td>\n",
       "      <td>0</td>\n",
       "      <td>0.0</td>\n",
       "    </tr>\n",
       "    <tr>\n",
       "      <th>11</th>\n",
       "      <td>Point of Contact</td>\n",
       "      <td>0</td>\n",
       "      <td>0.0</td>\n",
       "    </tr>\n",
       "  </tbody>\n",
       "</table>\n",
       "</div>"
      ],
      "text/plain": [
       "              Feature  Count_Null  Percentage_null\n",
       "0           Posted On           0              0.0\n",
       "1                 BHK           0              0.0\n",
       "2                Rent           0              0.0\n",
       "3                Size           0              0.0\n",
       "4               Floor           0              0.0\n",
       "5           Area Type           0              0.0\n",
       "6       Area Locality           0              0.0\n",
       "7                City           0              0.0\n",
       "8   Furnishing Status           0              0.0\n",
       "9    Tenant Preferred           0              0.0\n",
       "10           Bathroom           0              0.0\n",
       "11   Point of Contact           0              0.0"
      ]
     },
     "execution_count": 7,
     "metadata": {},
     "output_type": "execute_result"
    }
   ],
   "source": [
    "null_value_df=Null_Count_percentage(df)\n",
    "null_value_df"
   ]
  },
  {
   "cell_type": "code",
   "execution_count": 8,
   "id": "e6075a2a",
   "metadata": {},
   "outputs": [
    {
     "data": {
      "text/plain": [
       "0"
      ]
     },
     "execution_count": 8,
     "metadata": {},
     "output_type": "execute_result"
    }
   ],
   "source": [
    "### 2) Checking Duplicates\n",
    "df.duplicated().sum()"
   ]
  },
  {
   "cell_type": "code",
   "execution_count": 9,
   "id": "1c25974f",
   "metadata": {},
   "outputs": [
    {
     "data": {
      "text/plain": [
       "Posted On            object\n",
       "BHK                   int64\n",
       "Rent                  int64\n",
       "Size                  int64\n",
       "Floor                object\n",
       "Area Type            object\n",
       "Area Locality        object\n",
       "City                 object\n",
       "Furnishing Status    object\n",
       "Tenant Preferred     object\n",
       "Bathroom              int64\n",
       "Point of Contact     object\n",
       "dtype: object"
      ]
     },
     "execution_count": 9,
     "metadata": {},
     "output_type": "execute_result"
    }
   ],
   "source": [
    "### 3) Check Data Type\n",
    "df.dtypes"
   ]
  },
  {
   "cell_type": "code",
   "execution_count": 10,
   "id": "0db8a45c",
   "metadata": {},
   "outputs": [],
   "source": [
    "df[\"Posted On\"]=pd.to_datetime(df[\"Posted On\"])"
   ]
  },
  {
   "cell_type": "code",
   "execution_count": 11,
   "id": "28a79358",
   "metadata": {},
   "outputs": [
    {
     "data": {
      "text/plain": [
       "Posted On            datetime64[ns]\n",
       "BHK                           int64\n",
       "Rent                          int64\n",
       "Size                          int64\n",
       "Floor                        object\n",
       "Area Type                    object\n",
       "Area Locality                object\n",
       "City                         object\n",
       "Furnishing Status            object\n",
       "Tenant Preferred             object\n",
       "Bathroom                      int64\n",
       "Point of Contact             object\n",
       "dtype: object"
      ]
     },
     "execution_count": 11,
     "metadata": {},
     "output_type": "execute_result"
    }
   ],
   "source": [
    "df.dtypes"
   ]
  },
  {
   "cell_type": "code",
   "execution_count": 12,
   "id": "f05bab78",
   "metadata": {},
   "outputs": [],
   "source": [
    "# dt=datetime\n",
    "# Extracting Year and Month\n",
    "df[\"Year_Posted\"]=df[\"Posted On\"].dt.year\n",
    "df[\"Month_Posted\"]=df[\"Posted On\"].dt.month"
   ]
  },
  {
   "cell_type": "code",
   "execution_count": 13,
   "id": "0bee77da",
   "metadata": {},
   "outputs": [
    {
     "data": {
      "text/html": [
       "<div>\n",
       "<style scoped>\n",
       "    .dataframe tbody tr th:only-of-type {\n",
       "        vertical-align: middle;\n",
       "    }\n",
       "\n",
       "    .dataframe tbody tr th {\n",
       "        vertical-align: top;\n",
       "    }\n",
       "\n",
       "    .dataframe thead th {\n",
       "        text-align: right;\n",
       "    }\n",
       "</style>\n",
       "<table border=\"1\" class=\"dataframe\">\n",
       "  <thead>\n",
       "    <tr style=\"text-align: right;\">\n",
       "      <th></th>\n",
       "      <th>Posted On</th>\n",
       "      <th>BHK</th>\n",
       "      <th>Rent</th>\n",
       "      <th>Size</th>\n",
       "      <th>Floor</th>\n",
       "      <th>Area Type</th>\n",
       "      <th>Area Locality</th>\n",
       "      <th>City</th>\n",
       "      <th>Furnishing Status</th>\n",
       "      <th>Tenant Preferred</th>\n",
       "      <th>Bathroom</th>\n",
       "      <th>Point of Contact</th>\n",
       "      <th>Year_Posted</th>\n",
       "      <th>Month_Posted</th>\n",
       "    </tr>\n",
       "  </thead>\n",
       "  <tbody>\n",
       "    <tr>\n",
       "      <th>0</th>\n",
       "      <td>2022-05-18</td>\n",
       "      <td>2</td>\n",
       "      <td>10000</td>\n",
       "      <td>1100</td>\n",
       "      <td>Ground out of 2</td>\n",
       "      <td>Super Area</td>\n",
       "      <td>Bandel</td>\n",
       "      <td>Kolkata</td>\n",
       "      <td>Unfurnished</td>\n",
       "      <td>Bachelors/Family</td>\n",
       "      <td>2</td>\n",
       "      <td>Contact Owner</td>\n",
       "      <td>2022</td>\n",
       "      <td>5</td>\n",
       "    </tr>\n",
       "    <tr>\n",
       "      <th>1</th>\n",
       "      <td>2022-05-13</td>\n",
       "      <td>2</td>\n",
       "      <td>20000</td>\n",
       "      <td>800</td>\n",
       "      <td>1 out of 3</td>\n",
       "      <td>Super Area</td>\n",
       "      <td>Phool Bagan, Kankurgachi</td>\n",
       "      <td>Kolkata</td>\n",
       "      <td>Semi-Furnished</td>\n",
       "      <td>Bachelors/Family</td>\n",
       "      <td>1</td>\n",
       "      <td>Contact Owner</td>\n",
       "      <td>2022</td>\n",
       "      <td>5</td>\n",
       "    </tr>\n",
       "    <tr>\n",
       "      <th>2</th>\n",
       "      <td>2022-05-16</td>\n",
       "      <td>2</td>\n",
       "      <td>17000</td>\n",
       "      <td>1000</td>\n",
       "      <td>1 out of 3</td>\n",
       "      <td>Super Area</td>\n",
       "      <td>Salt Lake City Sector 2</td>\n",
       "      <td>Kolkata</td>\n",
       "      <td>Semi-Furnished</td>\n",
       "      <td>Bachelors/Family</td>\n",
       "      <td>1</td>\n",
       "      <td>Contact Owner</td>\n",
       "      <td>2022</td>\n",
       "      <td>5</td>\n",
       "    </tr>\n",
       "    <tr>\n",
       "      <th>3</th>\n",
       "      <td>2022-07-04</td>\n",
       "      <td>2</td>\n",
       "      <td>10000</td>\n",
       "      <td>800</td>\n",
       "      <td>1 out of 2</td>\n",
       "      <td>Super Area</td>\n",
       "      <td>Dumdum Park</td>\n",
       "      <td>Kolkata</td>\n",
       "      <td>Unfurnished</td>\n",
       "      <td>Bachelors/Family</td>\n",
       "      <td>1</td>\n",
       "      <td>Contact Owner</td>\n",
       "      <td>2022</td>\n",
       "      <td>7</td>\n",
       "    </tr>\n",
       "    <tr>\n",
       "      <th>4</th>\n",
       "      <td>2022-05-09</td>\n",
       "      <td>2</td>\n",
       "      <td>7500</td>\n",
       "      <td>850</td>\n",
       "      <td>1 out of 2</td>\n",
       "      <td>Carpet Area</td>\n",
       "      <td>South Dum Dum</td>\n",
       "      <td>Kolkata</td>\n",
       "      <td>Unfurnished</td>\n",
       "      <td>Bachelors</td>\n",
       "      <td>1</td>\n",
       "      <td>Contact Owner</td>\n",
       "      <td>2022</td>\n",
       "      <td>5</td>\n",
       "    </tr>\n",
       "    <tr>\n",
       "      <th>5</th>\n",
       "      <td>2022-04-29</td>\n",
       "      <td>2</td>\n",
       "      <td>7000</td>\n",
       "      <td>600</td>\n",
       "      <td>Ground out of 1</td>\n",
       "      <td>Super Area</td>\n",
       "      <td>Thakurpukur</td>\n",
       "      <td>Kolkata</td>\n",
       "      <td>Unfurnished</td>\n",
       "      <td>Bachelors/Family</td>\n",
       "      <td>2</td>\n",
       "      <td>Contact Owner</td>\n",
       "      <td>2022</td>\n",
       "      <td>4</td>\n",
       "    </tr>\n",
       "    <tr>\n",
       "      <th>6</th>\n",
       "      <td>2022-06-21</td>\n",
       "      <td>2</td>\n",
       "      <td>10000</td>\n",
       "      <td>700</td>\n",
       "      <td>Ground out of 4</td>\n",
       "      <td>Super Area</td>\n",
       "      <td>Malancha</td>\n",
       "      <td>Kolkata</td>\n",
       "      <td>Unfurnished</td>\n",
       "      <td>Bachelors</td>\n",
       "      <td>2</td>\n",
       "      <td>Contact Agent</td>\n",
       "      <td>2022</td>\n",
       "      <td>6</td>\n",
       "    </tr>\n",
       "    <tr>\n",
       "      <th>7</th>\n",
       "      <td>2022-06-21</td>\n",
       "      <td>1</td>\n",
       "      <td>5000</td>\n",
       "      <td>250</td>\n",
       "      <td>1 out of 2</td>\n",
       "      <td>Super Area</td>\n",
       "      <td>Malancha</td>\n",
       "      <td>Kolkata</td>\n",
       "      <td>Unfurnished</td>\n",
       "      <td>Bachelors</td>\n",
       "      <td>1</td>\n",
       "      <td>Contact Agent</td>\n",
       "      <td>2022</td>\n",
       "      <td>6</td>\n",
       "    </tr>\n",
       "    <tr>\n",
       "      <th>8</th>\n",
       "      <td>2022-06-07</td>\n",
       "      <td>2</td>\n",
       "      <td>26000</td>\n",
       "      <td>800</td>\n",
       "      <td>1 out of 2</td>\n",
       "      <td>Carpet Area</td>\n",
       "      <td>Palm Avenue Kolkata, Ballygunge</td>\n",
       "      <td>Kolkata</td>\n",
       "      <td>Unfurnished</td>\n",
       "      <td>Bachelors</td>\n",
       "      <td>2</td>\n",
       "      <td>Contact Agent</td>\n",
       "      <td>2022</td>\n",
       "      <td>6</td>\n",
       "    </tr>\n",
       "    <tr>\n",
       "      <th>9</th>\n",
       "      <td>2022-06-20</td>\n",
       "      <td>2</td>\n",
       "      <td>10000</td>\n",
       "      <td>1000</td>\n",
       "      <td>1 out of 3</td>\n",
       "      <td>Carpet Area</td>\n",
       "      <td>Natunhat</td>\n",
       "      <td>Kolkata</td>\n",
       "      <td>Semi-Furnished</td>\n",
       "      <td>Bachelors/Family</td>\n",
       "      <td>2</td>\n",
       "      <td>Contact Owner</td>\n",
       "      <td>2022</td>\n",
       "      <td>6</td>\n",
       "    </tr>\n",
       "  </tbody>\n",
       "</table>\n",
       "</div>"
      ],
      "text/plain": [
       "   Posted On  BHK   Rent  Size            Floor    Area Type  \\\n",
       "0 2022-05-18    2  10000  1100  Ground out of 2   Super Area   \n",
       "1 2022-05-13    2  20000   800       1 out of 3   Super Area   \n",
       "2 2022-05-16    2  17000  1000       1 out of 3   Super Area   \n",
       "3 2022-07-04    2  10000   800       1 out of 2   Super Area   \n",
       "4 2022-05-09    2   7500   850       1 out of 2  Carpet Area   \n",
       "5 2022-04-29    2   7000   600  Ground out of 1   Super Area   \n",
       "6 2022-06-21    2  10000   700  Ground out of 4   Super Area   \n",
       "7 2022-06-21    1   5000   250       1 out of 2   Super Area   \n",
       "8 2022-06-07    2  26000   800       1 out of 2  Carpet Area   \n",
       "9 2022-06-20    2  10000  1000       1 out of 3  Carpet Area   \n",
       "\n",
       "                     Area Locality     City Furnishing Status  \\\n",
       "0                           Bandel  Kolkata       Unfurnished   \n",
       "1         Phool Bagan, Kankurgachi  Kolkata    Semi-Furnished   \n",
       "2          Salt Lake City Sector 2  Kolkata    Semi-Furnished   \n",
       "3                      Dumdum Park  Kolkata       Unfurnished   \n",
       "4                    South Dum Dum  Kolkata       Unfurnished   \n",
       "5                      Thakurpukur  Kolkata       Unfurnished   \n",
       "6                         Malancha  Kolkata       Unfurnished   \n",
       "7                         Malancha  Kolkata       Unfurnished   \n",
       "8  Palm Avenue Kolkata, Ballygunge  Kolkata       Unfurnished   \n",
       "9                         Natunhat  Kolkata    Semi-Furnished   \n",
       "\n",
       "   Tenant Preferred  Bathroom Point of Contact  Year_Posted  Month_Posted  \n",
       "0  Bachelors/Family         2    Contact Owner         2022             5  \n",
       "1  Bachelors/Family         1    Contact Owner         2022             5  \n",
       "2  Bachelors/Family         1    Contact Owner         2022             5  \n",
       "3  Bachelors/Family         1    Contact Owner         2022             7  \n",
       "4         Bachelors         1    Contact Owner         2022             5  \n",
       "5  Bachelors/Family         2    Contact Owner         2022             4  \n",
       "6         Bachelors         2    Contact Agent         2022             6  \n",
       "7         Bachelors         1    Contact Agent         2022             6  \n",
       "8         Bachelors         2    Contact Agent         2022             6  \n",
       "9  Bachelors/Family         2    Contact Owner         2022             6  "
      ]
     },
     "execution_count": 13,
     "metadata": {},
     "output_type": "execute_result"
    }
   ],
   "source": [
    "df.head(10)"
   ]
  },
  {
   "cell_type": "code",
   "execution_count": 14,
   "id": "a9c76223",
   "metadata": {},
   "outputs": [
    {
     "data": {
      "text/plain": [
       "array(['Ground out of 2', '1 out of 3', '1 out of 2', 'Ground out of 1',\n",
       "       'Ground out of 4', '1 out of 4', '1 out of 1', 'Ground out of 3',\n",
       "       '2 out of 3', '4 out of 5', '2 out of 2', '2 out of 5',\n",
       "       '4 out of 14', '3 out of 3', '5 out of 5', '4 out of 4',\n",
       "       '7 out of 8', '2 out of 4', '3 out of 4', '1 out of 5',\n",
       "       '8 out of 5', 'Ground out of 6', '2 out of 1',\n",
       "       'Upper Basement out of 4', 'Ground out of 5', '3 out of 5',\n",
       "       '11 out of 19', '5 out of 10', '11 out of 14',\n",
       "       'Lower Basement out of 2', '2 out of 7', '4 out of 10',\n",
       "       '7 out of 10', '2 out of 13', '6 out of 7', '4 out of 7',\n",
       "       '14 out of 14', '43 out of 78', '2 out of 8', '13 out of 18',\n",
       "       '5 out of 12', '18 out of 24', '3 out of 7', '17 out of 31',\n",
       "       '11 out of 21', '7 out of 19', '14 out of 23', '9 out of 20',\n",
       "       'Upper Basement out of 9', '19 out of 24', '3 out of 21',\n",
       "       '1 out of 22', '8 out of 8', '6 out of 12', '4 out of 58',\n",
       "       'Upper Basement out of 16', '60 out of 66', '34 out of 48',\n",
       "       '5 out of 8', '5 out of 14', '14 out of 40', '5 out of 7',\n",
       "       '9 out of 22', '12 out of 18', '26 out of 44', '1 out of 8',\n",
       "       '25 out of 42', '25 out of 41', '53 out of 78', 'Ground out of 7',\n",
       "       '14 out of 20', '13 out of 20', '16 out of 23', '10 out of 18',\n",
       "       '39 out of 60', '16 out of 21', '10 out of 32', '4 out of 8',\n",
       "       '12 out of 24', '32 out of 41', '3 out of 30', '13 out of 21',\n",
       "       '9 out of 29', '47 out of 89', '7 out of 41', '28 out of 30',\n",
       "       '13 out of 15', '6 out of 21', '8 out of 16', '2 out of 6',\n",
       "       '5 out of 19', '3 out of 11', '17 out of 42', '10 out of 12',\n",
       "       '8 out of 28', '9 out of 15', '14 out of 22', '18 out of 40',\n",
       "       '9 out of 17', '12 out of 45', '25 out of 35', '7 out of 15',\n",
       "       '10 out of 16', 'Upper Basement out of 20', '5 out of 20',\n",
       "       'Upper Basement out of 40', '5 out of 18', '34 out of 58',\n",
       "       '4 out of 6', '20 out of 22', '12 out of 19', '15 out of 18',\n",
       "       '65 out of 78', '6 out of 16', '17 out of 22', '6 out of 24',\n",
       "       '40 out of 75', '19 out of 38', '15 out of 31', '11 out of 28',\n",
       "       '10 out of 22', '17 out of 24', '15 out of 19', '9 out of 10',\n",
       "       '7 out of 12', '8 out of 20', '11 out of 13', '9 out of 19',\n",
       "       '37 out of 51', '6 out of 11', '8 out of 15', '11 out of 20',\n",
       "       '10 out of 23', 'Upper Basement out of 10', '7 out of 23',\n",
       "       '4 out of 11', '17 out of 43', '7 out of 22', '14 out of 18',\n",
       "       '6 out of 10', '8 out of 12', '3 out of 18', '7 out of 7',\n",
       "       '14 out of 58', '18 out of 23', '19 out of 19', '13 out of 14',\n",
       "       '7 out of 11', '11 out of 22', 'Upper Basement out of 30',\n",
       "       '12 out of 14', '16 out of 31', '12 out of 13', '11 out of 51',\n",
       "       '2 out of 12', '22 out of 24', '7 out of 14', '5 out of 13',\n",
       "       '7 out of 21', '14 out of 21', '17 out of 25', '9 out of 14',\n",
       "       '8 out of 27', '3 out of 6', '17 out of 20', '18 out of 22',\n",
       "       '1 out of 7', '9 out of 30', '3 out of 8', '11 out of 26',\n",
       "       '17 out of 27', '4 out of 12', '12 out of 16', '10 out of 24',\n",
       "       '65 out of 76', '7 out of 9', '17 out of 60', '10 out of 11',\n",
       "       '18 out of 25', '5 out of 11', '15 out of 17', '15 out of 23',\n",
       "       '5 out of 17', '3 out of 28', '5 out of 24', '16 out of 32',\n",
       "       '21 out of 22', '7 out of 13', '9 out of 12', '15 out of 32',\n",
       "       '18 out of 27', '15 out of 16', '18 out of 45', '15 out of 15',\n",
       "       '6 out of 14', '1 out of 20', '16 out of 36', '30 out of 44',\n",
       "       '30 out of 37', '2 out of 9', '12 out of 22', '4 out of 9',\n",
       "       '2 out of 22', '5 out of 6', '6 out of 18', '35 out of 55',\n",
       "       '16 out of 29', '30 out of 45', '5 out of 9', '16 out of 25',\n",
       "       '33 out of 42', '4 out of 16', '13 out of 23', '9 out of 38',\n",
       "       '6 out of 8', '8 out of 13', '19 out of 30', '10 out of 14',\n",
       "       '11 out of 24', '9 out of 16', '9 out of 31', '4 out of 15',\n",
       "       '3 out of 9', '22 out of 30', '3 out of 58', '1 out of 9',\n",
       "       '53 out of 60', '5 out of 22', '15 out of 22', '19 out of 21',\n",
       "       '9 out of 40', 'Ground out of 8', '44 out of 75', '8 out of 17',\n",
       "       '3 out of 14', '12 out of 31', '26 out of 42', '2 out of 45',\n",
       "       '12 out of 68', '17 out of 36', '10 out of 28', '41 out of 41',\n",
       "       '14 out of 68', '14 out of 17', '15 out of 20', '46 out of 76',\n",
       "       '12 out of 20', '20 out of 30', '18 out of 32', '10 out of 25',\n",
       "       '17 out of 29', '10 out of 31', '10 out of 15', '13 out of 16',\n",
       "       '8 out of 10', '18 out of 21', '27 out of 58', '1 out of 6',\n",
       "       '19 out of 25', '3 out of 15', '25 out of 43', '8 out of 14',\n",
       "       '11 out of 12', '9 out of 21', '10 out of 13', '45 out of 77',\n",
       "       '18 out of 19', '10 out of 20', '12 out of 29',\n",
       "       'Lower Basement out of 18', '15 out of 24', '48 out of 68',\n",
       "       '12 out of 42', '16 out of 22', '35 out of 68', '18 out of 30',\n",
       "       '11 out of 31', '50 out of 75', '18 out of 26', '12 out of 27',\n",
       "       '16 out of 20', '24 out of 55', '16 out of 37',\n",
       "       'Upper Basement out of 7', '6 out of 15', '11 out of 27',\n",
       "       '11 out of 23', '3 out of 12', '14 out of 15', '23 out of 25',\n",
       "       '14 out of 48', '29 out of 35', '15 out of 36', '15 out of 25',\n",
       "       '15 out of 28', '3 out of 36', '8 out of 11', '6 out of 20',\n",
       "       '23 out of 23', '5 out of 15', '16 out of 18', '2 out of 10',\n",
       "       '40 out of 50', '25 out of 28', '12 out of 17', '34 out of 40',\n",
       "       'Upper Basement out of 22', '8 out of 23', '5 out of 21',\n",
       "       '32 out of 59', '20 out of 32', '9 out of 18', '10 out of 37',\n",
       "       '25 out of 48', '4 out of 22', '8 out of 18', '11 out of 11',\n",
       "       '5 out of 23', '60 out of 77', '11 out of 18', '4 out of 20',\n",
       "       '5 out of 16', '3 out of 13', '30 out of 58', '15 out of 43',\n",
       "       '7 out of 16', '18 out of 28', '9 out of 55', '11 out of 25',\n",
       "       '49 out of 55', '7 out of 27', '14 out of 27', '16 out of 27',\n",
       "       '25 out of 50', '6 out of 30', '21 out of 23', '8 out of 58',\n",
       "       '20 out of 41', '3 out of 62', '4 out of 13', '7 out of 17',\n",
       "       '12 out of 21', '28 out of 39', '15 out of 58', '6 out of 23',\n",
       "       '36 out of 45', '9 out of 28', '6 out of 45', '22 out of 52',\n",
       "       '10 out of 19', '21 out of 58', '48 out of 54', '7 out of 28',\n",
       "       '11 out of 15', '19 out of 22', '15 out of 37', '2 out of 17',\n",
       "       '76 out of 78', '3 out of 10', '20 out of 27', '8 out of 36',\n",
       "       '14 out of 33', '21 out of 21', '12 out of 25', '18 out of 29',\n",
       "       '14 out of 35', '7 out of 20', '20 out of 37', '9 out of 35',\n",
       "       '27 out of 27', '15 out of 60', '19 out of 33', '18 out of 20',\n",
       "       '13 out of 40', '9 out of 11', '8 out of 22', '6 out of 13',\n",
       "       '20 out of 31', '27 out of 45', '19 out of 20', '32 out of 46',\n",
       "       '19 out of 85', '3 out of 23', '34 out of 46', '4 out of 27',\n",
       "       '19 out of 27', '35 out of 60', '21 out of 33', '25 out of 52',\n",
       "       '2 out of 24', '24 out of 24', '18 out of 33', '1 out of 10',\n",
       "       '45 out of 60', '60 out of 71', '36 out of 81', '24 out of 60',\n",
       "       '16 out of 38', '8 out of 45', 'Ground out of 16', '8 out of 32',\n",
       "       '10 out of 10', '23 out of 40', '7 out of 18', '8 out of 19',\n",
       "       '6 out of 17', '16 out of 34', 'Ground out of 12', '6 out of 9',\n",
       "       'Ground out of 18', '20 out of 25', '3 out of 22', '9 out of 32',\n",
       "       '26 out of 32', '17 out of 18', '24 out of 25', '19 out of 26',\n",
       "       '17 out of 19', '1 out of 13', '14 out of 30', '8 out of 9',\n",
       "       '3 out of 17', 'Lower Basement out of 3', '12 out of 23',\n",
       "       'Ground out of 9', '1 out of 24', '1 out of 12', '3', 'Ground',\n",
       "       '15 out of 29', '20 out of 20', '14 out of 29',\n",
       "       'Lower Basement out of 1', '13 out of 17', '1 out of 14',\n",
       "       'Upper Basement out of 2', '2 out of 14', '24 out of 31',\n",
       "       '2 out of 32', '2 out of 16', '9 out of 13', '1 out of 11',\n",
       "       '6 out of 29', '9 out of 9', '28 out of 31', '1 out of 15',\n",
       "       'Ground out of 14', '2 out of 11', '19 out of 31', '1 out of 16',\n",
       "       '25 out of 32', '11 out of 16', '11 out of 17',\n",
       "       'Upper Basement out of 3', '4 out of 24', '1 out of 19',\n",
       "       '7 out of 30', '16 out of 19', 'Upper Basement out of 5',\n",
       "       'Ground out of 13', '2 out of 25', '23 out of 30', '4 out of 30',\n",
       "       '13 out of 25', '23 out of 35', 'Ground out of 10', '5 out of 34',\n",
       "       '20 out of 35', '1', '4 out of 31', '4 out of 26', '24 out of 33',\n",
       "       '4 out of 17', '1 out of 35', '11 out of 35', 'Ground out of 15',\n",
       "       'Ground out of 27', '15 out of 30', '12 out of 30', '23 out of 34'],\n",
       "      dtype=object)"
      ]
     },
     "execution_count": 14,
     "metadata": {},
     "output_type": "execute_result"
    }
   ],
   "source": [
    "df[\"Floor\"].unique()"
   ]
  },
  {
   "cell_type": "code",
   "execution_count": 15,
   "id": "e756ac7d",
   "metadata": {},
   "outputs": [],
   "source": [
    "# Extracting floor number and floor count.\n",
    "# 16 out of 19\n",
    "# 1\n",
    "# Upper Basement ouyt of 5\n",
    "# Lower Basement out of 1\n",
    "# Ground out of 27\n",
    "def extract_floor_num(x):\n",
    "    if len(x)==1:\n",
    "        return x\n",
    "    else:\n",
    "        r=x.split()\n",
    "        return r[0]\n",
    "    "
   ]
  },
  {
   "cell_type": "code",
   "execution_count": 16,
   "id": "68a42402",
   "metadata": {},
   "outputs": [
    {
     "data": {
      "text/plain": [
       "Floor_Num\n",
       "1         1161\n",
       "2          945\n",
       "Ground     927\n",
       "3          512\n",
       "4          272\n",
       "5          164\n",
       "6           93\n",
       "7           74\n",
       "10          67\n",
       "8           66\n",
       "9           65\n",
       "12          47\n",
       "11          43\n",
       "15          41\n",
       "14          34\n",
       "18          26\n",
       "Upper       23\n",
       "17          22\n",
       "16          21\n",
       "19          16\n",
       "13          15\n",
       "20          12\n",
       "25          12\n",
       "Lower       11\n",
       "23           9\n",
       "24           6\n",
       "21           6\n",
       "30           5\n",
       "34           4\n",
       "28           4\n",
       "35           3\n",
       "65           3\n",
       "22           3\n",
       "26           3\n",
       "32           3\n",
       "60           3\n",
       "27           3\n",
       "40           2\n",
       "53           2\n",
       "45           2\n",
       "36           2\n",
       "48           2\n",
       "29           1\n",
       "49           1\n",
       "50           1\n",
       "39           1\n",
       "46           1\n",
       "41           1\n",
       "44           1\n",
       "33           1\n",
       "37           1\n",
       "47           1\n",
       "43           1\n",
       "76           1\n",
       "Name: count, dtype: int64"
      ]
     },
     "execution_count": 16,
     "metadata": {},
     "output_type": "execute_result"
    }
   ],
   "source": [
    "df[\"Floor_Num\"]=df[\"Floor\"].apply(extract_floor_num)\n",
    "df[\"Floor_Num\"].value_counts()"
   ]
  },
  {
   "cell_type": "code",
   "execution_count": 20,
   "id": "278e029e",
   "metadata": {},
   "outputs": [
    {
     "data": {
      "text/plain": [
       "Floor_Count\n",
       "4     938\n",
       "3     915\n",
       "2     868\n",
       "5     422\n",
       "1     335\n",
       "     ... \n",
       "39      1\n",
       "62      1\n",
       "59      1\n",
       "66      1\n",
       "0       1\n",
       "Name: count, Length: 67, dtype: int64"
      ]
     },
     "execution_count": 20,
     "metadata": {},
     "output_type": "execute_result"
    }
   ],
   "source": [
    "df[\"Floor_Num\"]=df[\"Floor_Num\"].replace({\"Ground\":0,\"Upper\":-1,\"Lower\":-2})\n",
    "df[\"Floor_Num\"].value_counts()\n",
    "df[\"Floor_Count\"]=df[\"Floor_Count\"].replace({\"Ground\":0})\n",
    "df[\"Floor_Count\"].value_counts()"
   ]
  },
  {
   "cell_type": "code",
   "execution_count": 18,
   "id": "25ceb673",
   "metadata": {},
   "outputs": [],
   "source": [
    "def extract_Total_Floor_Count(x):\n",
    "    if len(x)==1:\n",
    "        return x\n",
    "    else:\n",
    "        r=x.split()\n",
    "        return r[-1]"
   ]
  },
  {
   "cell_type": "code",
   "execution_count": 19,
   "id": "1ba805f2",
   "metadata": {},
   "outputs": [
    {
     "data": {
      "text/plain": [
       "Floor_Count\n",
       "4         938\n",
       "3         915\n",
       "2         868\n",
       "5         422\n",
       "1         335\n",
       "         ... \n",
       "39          1\n",
       "62          1\n",
       "59          1\n",
       "66          1\n",
       "Ground      1\n",
       "Name: count, Length: 67, dtype: int64"
      ]
     },
     "execution_count": 19,
     "metadata": {},
     "output_type": "execute_result"
    }
   ],
   "source": [
    "df[\"Floor_Count\"]=df[\"Floor\"].apply(extract_Total_Floor_Count)\n",
    "df[\"Floor_Count\"].value_counts()"
   ]
  },
  {
   "cell_type": "code",
   "execution_count": 22,
   "id": "e0f4a27c",
   "metadata": {},
   "outputs": [],
   "source": [
    "df[\"Floor_Num\"]=df[\"Floor_Num\"].astype(\"int\")\n",
    "df[\"Floor_Count\"]=df[\"Floor_Count\"].astype(\"int\")"
   ]
  },
  {
   "cell_type": "code",
   "execution_count": 23,
   "id": "11c2fb7e",
   "metadata": {},
   "outputs": [
    {
     "data": {
      "text/plain": [
       "Posted On            datetime64[ns]\n",
       "BHK                           int64\n",
       "Rent                          int64\n",
       "Size                          int64\n",
       "Floor                        object\n",
       "Area Type                    object\n",
       "Area Locality                object\n",
       "City                         object\n",
       "Furnishing Status            object\n",
       "Tenant Preferred             object\n",
       "Bathroom                      int64\n",
       "Point of Contact             object\n",
       "Year_Posted                   int32\n",
       "Month_Posted                  int32\n",
       "Floor_Num                     int32\n",
       "Floor_Count                   int32\n",
       "dtype: object"
      ]
     },
     "execution_count": 23,
     "metadata": {},
     "output_type": "execute_result"
    }
   ],
   "source": [
    "df.dtypes"
   ]
  },
  {
   "cell_type": "code",
   "execution_count": 24,
   "id": "75ea30aa",
   "metadata": {},
   "outputs": [],
   "source": [
    "df.drop([\"Posted On\",\"Floor\"],axis=1,inplace=True) # inplace true for pemanent changes in the data"
   ]
  },
  {
   "cell_type": "code",
   "execution_count": 25,
   "id": "7fef1de0",
   "metadata": {},
   "outputs": [
    {
     "data": {
      "text/plain": [
       "Index(['BHK', 'Rent', 'Size', 'Area Type', 'Area Locality', 'City',\n",
       "       'Furnishing Status', 'Tenant Preferred', 'Bathroom', 'Point of Contact',\n",
       "       'Year_Posted', 'Month_Posted', 'Floor_Num', 'Floor_Count'],\n",
       "      dtype='object')"
      ]
     },
     "execution_count": 25,
     "metadata": {},
     "output_type": "execute_result"
    }
   ],
   "source": [
    "df.columns"
   ]
  },
  {
   "cell_type": "code",
   "execution_count": 26,
   "id": "f0e4ea8b",
   "metadata": {},
   "outputs": [
    {
     "data": {
      "text/html": [
       "<div>\n",
       "<style scoped>\n",
       "    .dataframe tbody tr th:only-of-type {\n",
       "        vertical-align: middle;\n",
       "    }\n",
       "\n",
       "    .dataframe tbody tr th {\n",
       "        vertical-align: top;\n",
       "    }\n",
       "\n",
       "    .dataframe thead th {\n",
       "        text-align: right;\n",
       "    }\n",
       "</style>\n",
       "<table border=\"1\" class=\"dataframe\">\n",
       "  <thead>\n",
       "    <tr style=\"text-align: right;\">\n",
       "      <th></th>\n",
       "      <th>BHK</th>\n",
       "      <th>Rent</th>\n",
       "      <th>Size</th>\n",
       "      <th>Area Type</th>\n",
       "      <th>Area Locality</th>\n",
       "      <th>City</th>\n",
       "      <th>Furnishing Status</th>\n",
       "      <th>Tenant Preferred</th>\n",
       "      <th>Bathroom</th>\n",
       "      <th>Point of Contact</th>\n",
       "      <th>Year_Posted</th>\n",
       "      <th>Month_Posted</th>\n",
       "      <th>Floor_Num</th>\n",
       "      <th>Floor_Count</th>\n",
       "    </tr>\n",
       "  </thead>\n",
       "  <tbody>\n",
       "    <tr>\n",
       "      <th>0</th>\n",
       "      <td>2</td>\n",
       "      <td>10000</td>\n",
       "      <td>1100</td>\n",
       "      <td>Super Area</td>\n",
       "      <td>Bandel</td>\n",
       "      <td>Kolkata</td>\n",
       "      <td>Unfurnished</td>\n",
       "      <td>Bachelors/Family</td>\n",
       "      <td>2</td>\n",
       "      <td>Contact Owner</td>\n",
       "      <td>2022</td>\n",
       "      <td>5</td>\n",
       "      <td>0</td>\n",
       "      <td>2</td>\n",
       "    </tr>\n",
       "    <tr>\n",
       "      <th>1</th>\n",
       "      <td>2</td>\n",
       "      <td>20000</td>\n",
       "      <td>800</td>\n",
       "      <td>Super Area</td>\n",
       "      <td>Phool Bagan, Kankurgachi</td>\n",
       "      <td>Kolkata</td>\n",
       "      <td>Semi-Furnished</td>\n",
       "      <td>Bachelors/Family</td>\n",
       "      <td>1</td>\n",
       "      <td>Contact Owner</td>\n",
       "      <td>2022</td>\n",
       "      <td>5</td>\n",
       "      <td>1</td>\n",
       "      <td>3</td>\n",
       "    </tr>\n",
       "    <tr>\n",
       "      <th>2</th>\n",
       "      <td>2</td>\n",
       "      <td>17000</td>\n",
       "      <td>1000</td>\n",
       "      <td>Super Area</td>\n",
       "      <td>Salt Lake City Sector 2</td>\n",
       "      <td>Kolkata</td>\n",
       "      <td>Semi-Furnished</td>\n",
       "      <td>Bachelors/Family</td>\n",
       "      <td>1</td>\n",
       "      <td>Contact Owner</td>\n",
       "      <td>2022</td>\n",
       "      <td>5</td>\n",
       "      <td>1</td>\n",
       "      <td>3</td>\n",
       "    </tr>\n",
       "    <tr>\n",
       "      <th>3</th>\n",
       "      <td>2</td>\n",
       "      <td>10000</td>\n",
       "      <td>800</td>\n",
       "      <td>Super Area</td>\n",
       "      <td>Dumdum Park</td>\n",
       "      <td>Kolkata</td>\n",
       "      <td>Unfurnished</td>\n",
       "      <td>Bachelors/Family</td>\n",
       "      <td>1</td>\n",
       "      <td>Contact Owner</td>\n",
       "      <td>2022</td>\n",
       "      <td>7</td>\n",
       "      <td>1</td>\n",
       "      <td>2</td>\n",
       "    </tr>\n",
       "    <tr>\n",
       "      <th>4</th>\n",
       "      <td>2</td>\n",
       "      <td>7500</td>\n",
       "      <td>850</td>\n",
       "      <td>Carpet Area</td>\n",
       "      <td>South Dum Dum</td>\n",
       "      <td>Kolkata</td>\n",
       "      <td>Unfurnished</td>\n",
       "      <td>Bachelors</td>\n",
       "      <td>1</td>\n",
       "      <td>Contact Owner</td>\n",
       "      <td>2022</td>\n",
       "      <td>5</td>\n",
       "      <td>1</td>\n",
       "      <td>2</td>\n",
       "    </tr>\n",
       "  </tbody>\n",
       "</table>\n",
       "</div>"
      ],
      "text/plain": [
       "   BHK   Rent  Size    Area Type             Area Locality     City  \\\n",
       "0    2  10000  1100   Super Area                    Bandel  Kolkata   \n",
       "1    2  20000   800   Super Area  Phool Bagan, Kankurgachi  Kolkata   \n",
       "2    2  17000  1000   Super Area   Salt Lake City Sector 2  Kolkata   \n",
       "3    2  10000   800   Super Area               Dumdum Park  Kolkata   \n",
       "4    2   7500   850  Carpet Area             South Dum Dum  Kolkata   \n",
       "\n",
       "  Furnishing Status  Tenant Preferred  Bathroom Point of Contact  Year_Posted  \\\n",
       "0       Unfurnished  Bachelors/Family         2    Contact Owner         2022   \n",
       "1    Semi-Furnished  Bachelors/Family         1    Contact Owner         2022   \n",
       "2    Semi-Furnished  Bachelors/Family         1    Contact Owner         2022   \n",
       "3       Unfurnished  Bachelors/Family         1    Contact Owner         2022   \n",
       "4       Unfurnished         Bachelors         1    Contact Owner         2022   \n",
       "\n",
       "   Month_Posted  Floor_Num  Floor_Count  \n",
       "0             5          0            2  \n",
       "1             5          1            3  \n",
       "2             5          1            3  \n",
       "3             7          1            2  \n",
       "4             5          1            2  "
      ]
     },
     "execution_count": 26,
     "metadata": {},
     "output_type": "execute_result"
    }
   ],
   "source": [
    "df.head()"
   ]
  },
  {
   "cell_type": "markdown",
   "id": "9140c480",
   "metadata": {},
   "source": [
    "#### Separate Number and Category Features"
   ]
  },
  {
   "cell_type": "code",
   "execution_count": 27,
   "id": "97c95a2b",
   "metadata": {},
   "outputs": [
    {
     "name": "stdout",
     "output_type": "stream",
     "text": [
      "Index(['BHK', 'Rent', 'Size', 'Bathroom', 'Year_Posted', 'Month_Posted',\n",
      "       'Floor_Num', 'Floor_Count'],\n",
      "      dtype='object')\n",
      "Index(['Area Type', 'Area Locality', 'City', 'Furnishing Status',\n",
      "       'Tenant Preferred', 'Point of Contact'],\n",
      "      dtype='object')\n"
     ]
    }
   ],
   "source": [
    "num_cols=df.dtypes[df.dtypes!='object'].index\n",
    "cat_cols=df.dtypes[df.dtypes=='object'].index\n",
    "print(num_cols)\n",
    "print(cat_cols)"
   ]
  },
  {
   "cell_type": "code",
   "execution_count": 28,
   "id": "82f608af",
   "metadata": {},
   "outputs": [
    {
     "data": {
      "text/html": [
       "<div>\n",
       "<style scoped>\n",
       "    .dataframe tbody tr th:only-of-type {\n",
       "        vertical-align: middle;\n",
       "    }\n",
       "\n",
       "    .dataframe tbody tr th {\n",
       "        vertical-align: top;\n",
       "    }\n",
       "\n",
       "    .dataframe thead th {\n",
       "        text-align: right;\n",
       "    }\n",
       "</style>\n",
       "<table border=\"1\" class=\"dataframe\">\n",
       "  <thead>\n",
       "    <tr style=\"text-align: right;\">\n",
       "      <th></th>\n",
       "      <th>BHK</th>\n",
       "      <th>Rent</th>\n",
       "      <th>Size</th>\n",
       "      <th>Area Type</th>\n",
       "      <th>Area Locality</th>\n",
       "      <th>City</th>\n",
       "      <th>Furnishing Status</th>\n",
       "      <th>Tenant Preferred</th>\n",
       "      <th>Bathroom</th>\n",
       "      <th>Point of Contact</th>\n",
       "      <th>Year_Posted</th>\n",
       "      <th>Month_Posted</th>\n",
       "      <th>Floor_Num</th>\n",
       "      <th>Floor_Count</th>\n",
       "    </tr>\n",
       "  </thead>\n",
       "  <tbody>\n",
       "    <tr>\n",
       "      <th>0</th>\n",
       "      <td>2</td>\n",
       "      <td>10000</td>\n",
       "      <td>1100</td>\n",
       "      <td>Super Area</td>\n",
       "      <td>Bandel</td>\n",
       "      <td>Kolkata</td>\n",
       "      <td>Unfurnished</td>\n",
       "      <td>Bachelors/Family</td>\n",
       "      <td>2</td>\n",
       "      <td>Contact Owner</td>\n",
       "      <td>2022</td>\n",
       "      <td>5</td>\n",
       "      <td>0</td>\n",
       "      <td>2</td>\n",
       "    </tr>\n",
       "    <tr>\n",
       "      <th>1</th>\n",
       "      <td>2</td>\n",
       "      <td>20000</td>\n",
       "      <td>800</td>\n",
       "      <td>Super Area</td>\n",
       "      <td>Phool Bagan, Kankurgachi</td>\n",
       "      <td>Kolkata</td>\n",
       "      <td>Semi-Furnished</td>\n",
       "      <td>Bachelors/Family</td>\n",
       "      <td>1</td>\n",
       "      <td>Contact Owner</td>\n",
       "      <td>2022</td>\n",
       "      <td>5</td>\n",
       "      <td>1</td>\n",
       "      <td>3</td>\n",
       "    </tr>\n",
       "    <tr>\n",
       "      <th>2</th>\n",
       "      <td>2</td>\n",
       "      <td>17000</td>\n",
       "      <td>1000</td>\n",
       "      <td>Super Area</td>\n",
       "      <td>Salt Lake City Sector 2</td>\n",
       "      <td>Kolkata</td>\n",
       "      <td>Semi-Furnished</td>\n",
       "      <td>Bachelors/Family</td>\n",
       "      <td>1</td>\n",
       "      <td>Contact Owner</td>\n",
       "      <td>2022</td>\n",
       "      <td>5</td>\n",
       "      <td>1</td>\n",
       "      <td>3</td>\n",
       "    </tr>\n",
       "    <tr>\n",
       "      <th>3</th>\n",
       "      <td>2</td>\n",
       "      <td>10000</td>\n",
       "      <td>800</td>\n",
       "      <td>Super Area</td>\n",
       "      <td>Dumdum Park</td>\n",
       "      <td>Kolkata</td>\n",
       "      <td>Unfurnished</td>\n",
       "      <td>Bachelors/Family</td>\n",
       "      <td>1</td>\n",
       "      <td>Contact Owner</td>\n",
       "      <td>2022</td>\n",
       "      <td>7</td>\n",
       "      <td>1</td>\n",
       "      <td>2</td>\n",
       "    </tr>\n",
       "    <tr>\n",
       "      <th>4</th>\n",
       "      <td>2</td>\n",
       "      <td>7500</td>\n",
       "      <td>850</td>\n",
       "      <td>Carpet Area</td>\n",
       "      <td>South Dum Dum</td>\n",
       "      <td>Kolkata</td>\n",
       "      <td>Unfurnished</td>\n",
       "      <td>Bachelors</td>\n",
       "      <td>1</td>\n",
       "      <td>Contact Owner</td>\n",
       "      <td>2022</td>\n",
       "      <td>5</td>\n",
       "      <td>1</td>\n",
       "      <td>2</td>\n",
       "    </tr>\n",
       "  </tbody>\n",
       "</table>\n",
       "</div>"
      ],
      "text/plain": [
       "   BHK   Rent  Size    Area Type             Area Locality     City  \\\n",
       "0    2  10000  1100   Super Area                    Bandel  Kolkata   \n",
       "1    2  20000   800   Super Area  Phool Bagan, Kankurgachi  Kolkata   \n",
       "2    2  17000  1000   Super Area   Salt Lake City Sector 2  Kolkata   \n",
       "3    2  10000   800   Super Area               Dumdum Park  Kolkata   \n",
       "4    2   7500   850  Carpet Area             South Dum Dum  Kolkata   \n",
       "\n",
       "  Furnishing Status  Tenant Preferred  Bathroom Point of Contact  Year_Posted  \\\n",
       "0       Unfurnished  Bachelors/Family         2    Contact Owner         2022   \n",
       "1    Semi-Furnished  Bachelors/Family         1    Contact Owner         2022   \n",
       "2    Semi-Furnished  Bachelors/Family         1    Contact Owner         2022   \n",
       "3       Unfurnished  Bachelors/Family         1    Contact Owner         2022   \n",
       "4       Unfurnished         Bachelors         1    Contact Owner         2022   \n",
       "\n",
       "   Month_Posted  Floor_Num  Floor_Count  \n",
       "0             5          0            2  \n",
       "1             5          1            3  \n",
       "2             5          1            3  \n",
       "3             7          1            2  \n",
       "4             5          1            2  "
      ]
     },
     "execution_count": 28,
     "metadata": {},
     "output_type": "execute_result"
    }
   ],
   "source": [
    "df.head()"
   ]
  },
  {
   "cell_type": "code",
   "execution_count": 29,
   "id": "c01d4d74",
   "metadata": {},
   "outputs": [
    {
     "name": "stdout",
     "output_type": "stream",
     "text": [
      "Area Type 3\n",
      "Area Locality 2235\n",
      "City 6\n",
      "Furnishing Status 3\n",
      "Tenant Preferred 3\n",
      "Point of Contact 3\n"
     ]
    }
   ],
   "source": [
    "for i in cat_cols:\n",
    "    print(i,df[i].nunique())"
   ]
  },
  {
   "cell_type": "markdown",
   "id": "e0d2defd",
   "metadata": {},
   "source": [
    "### EDA\n",
    "#### univariate , Bi-variate\n"
   ]
  },
  {
   "cell_type": "markdown",
   "id": "b3953f38",
   "metadata": {},
   "source": [
    "#### Countplot"
   ]
  },
  {
   "cell_type": "code",
   "execution_count": 30,
   "id": "84b0b6c2",
   "metadata": {},
   "outputs": [
    {
     "data": {
      "image/png": "[encoded data removed]",
      "text/plain": [
       "<Figure size 1800x1200 with 5 Axes>"
      ]
     },
     "metadata": {},
     "output_type": "display_data"
    }
   ],
   "source": [
    "cols=['Area Type', 'City', 'Furnishing Status',\n",
    "       'Tenant Preferred', 'Point of Contact']\n",
    "plt.figure(figsize=(18,12))\n",
    "for i in range(len(cols)):                          # i=0,1,2,3,4\n",
    "    plt.subplot(2,3,i+1)\n",
    "    sns.countplot(x=df[cols[i]])\n",
    "    plt.title(f'Countplot for {cols[i]}')\n",
    "plt.show()"
   ]
  },
  {
   "cell_type": "markdown",
   "id": "f91c633f",
   "metadata": {},
   "source": [
    "### Boxplot"
   ]
  },
  {
   "cell_type": "code",
   "execution_count": 31,
   "id": "66344ca3",
   "metadata": {},
   "outputs": [
    {
     "data": {
      "text/plain": [
       "BHK                   int64\n",
       "Rent                  int64\n",
       "Size                  int64\n",
       "Area Type            object\n",
       "Area Locality        object\n",
       "City                 object\n",
       "Furnishing Status    object\n",
       "Tenant Preferred     object\n",
       "Bathroom              int64\n",
       "Point of Contact     object\n",
       "Year_Posted           int32\n",
       "Month_Posted          int32\n",
       "Floor_Num             int32\n",
       "Floor_Count           int32\n",
       "dtype: object"
      ]
     },
     "execution_count": 31,
     "metadata": {},
     "output_type": "execute_result"
    }
   ],
   "source": [
    "df.dtypes"
   ]
  },
  {
   "cell_type": "code",
   "execution_count": 32,
   "id": "45ee321a",
   "metadata": {},
   "outputs": [
    {
     "data": {
      "image/png": "[encoded data removed]",
      "text/plain": [
       "<Figure size 2000x2000 with 8 Axes>"
      ]
     },
     "metadata": {},
     "output_type": "display_data"
    }
   ],
   "source": [
    "num_cols=['BHK', 'Rent', 'Size', 'Bathroom', 'Year_Posted', 'Month_Posted',\n",
    "       'Floor_Num', 'Floor_Count']\n",
    "plt.figure(figsize=(20,20))\n",
    "for i in range(len(num_cols)):                          # i=0,1,2,3,4\n",
    "    plt.subplot(3,3,i+1)\n",
    "    sns.boxplot(x=df[num_cols[i]])\n",
    "    plt.title(f'Countplot for {num_cols[i]}')\n",
    "plt.show()"
   ]
  },
  {
   "cell_type": "code",
   "execution_count": 33,
   "id": "7f7a45b2",
   "metadata": {},
   "outputs": [
    {
     "data": {
      "text/plain": [
       "Year_Posted\n",
       "2022    4746\n",
       "Name: count, dtype: int64"
      ]
     },
     "execution_count": 33,
     "metadata": {},
     "output_type": "execute_result"
    }
   ],
   "source": [
    "df['Year_Posted'].value_counts()"
   ]
  },
  {
   "cell_type": "code",
   "execution_count": 34,
   "id": "c11d4e5d",
   "metadata": {},
   "outputs": [
    {
     "data": {
      "text/plain": [
       "Index(['BHK', 'Rent', 'Size', 'Area Type', 'City', 'Furnishing Status',\n",
       "       'Tenant Preferred', 'Bathroom', 'Point of Contact', 'Month_Posted',\n",
       "       'Floor_Num', 'Floor_Count'],\n",
       "      dtype='object')"
      ]
     },
     "execution_count": 34,
     "metadata": {},
     "output_type": "execute_result"
    }
   ],
   "source": [
    "df.drop(['Year_Posted','Area Locality'],axis=1,inplace=True)\n",
    "df.columns"
   ]
  },
  {
   "cell_type": "code",
   "execution_count": 35,
   "id": "9f2a0e0d",
   "metadata": {},
   "outputs": [
    {
     "data": {
      "text/plain": [
       "Index(['BHK', 'Rent', 'Size', 'Area Type', 'City', 'Furnishing Status',\n",
       "       'Tenant Preferred', 'Bathroom', 'Point of Contact', 'Month_Posted',\n",
       "       'Floor_Num', 'Floor_Count'],\n",
       "      dtype='object')"
      ]
     },
     "execution_count": 35,
     "metadata": {},
     "output_type": "execute_result"
    }
   ],
   "source": [
    "df.columns"
   ]
  },
  {
   "cell_type": "markdown",
   "id": "f967c9fe",
   "metadata": {},
   "source": [
    "### Correlation"
   ]
  },
  {
   "cell_type": "code",
   "execution_count": null,
   "id": "2a4675bb",
   "metadata": {},
   "outputs": [],
   "source": []
  },
  {
   "cell_type": "code",
   "execution_count": 36,
   "id": "b32d026b",
   "metadata": {},
   "outputs": [
    {
     "data": {
      "image/png": "[encoded data removed]",
      "text/plain": [
       "<Figure size 900x900 with 2 Axes>"
      ]
     },
     "metadata": {},
     "output_type": "display_data"
    }
   ],
   "source": [
    "df_num = df.select_dtypes('int')\n",
    "corr=df_num.corr()\n",
    "plt.figure(figsize=(9,9))\n",
    "sns.heatmap(corr,annot=True,cmap='coolwarm')   # annot= Annotation\n",
    "plt.show()"
   ]
  },
  {
   "cell_type": "markdown",
   "id": "303c121b",
   "metadata": {},
   "source": [
    "### Outlier Treatment\n",
    "1) Remove all outliers. >Q3+1.5*IQR or < Q1-(1.5*IQR)<br>\n",
    "2) Remove extreme outliers."
   ]
  },
  {
   "cell_type": "code",
   "execution_count": 37,
   "id": "e315d6c9",
   "metadata": {},
   "outputs": [
    {
     "data": {
      "text/html": [
       "<div>\n",
       "<style scoped>\n",
       "    .dataframe tbody tr th:only-of-type {\n",
       "        vertical-align: middle;\n",
       "    }\n",
       "\n",
       "    .dataframe tbody tr th {\n",
       "        vertical-align: top;\n",
       "    }\n",
       "\n",
       "    .dataframe thead th {\n",
       "        text-align: right;\n",
       "    }\n",
       "</style>\n",
       "<table border=\"1\" class=\"dataframe\">\n",
       "  <thead>\n",
       "    <tr style=\"text-align: right;\">\n",
       "      <th></th>\n",
       "      <th>min</th>\n",
       "      <th>1%</th>\n",
       "      <th>2%</th>\n",
       "      <th>5%</th>\n",
       "      <th>50%</th>\n",
       "      <th>95%</th>\n",
       "      <th>97%</th>\n",
       "      <th>98%</th>\n",
       "      <th>99%</th>\n",
       "      <th>max</th>\n",
       "    </tr>\n",
       "  </thead>\n",
       "  <tbody>\n",
       "    <tr>\n",
       "      <th>Rent</th>\n",
       "      <td>1200.0</td>\n",
       "      <td>4000.0</td>\n",
       "      <td>5000.0</td>\n",
       "      <td>6000.0</td>\n",
       "      <td>16000.0</td>\n",
       "      <td>130000.0</td>\n",
       "      <td>180000.00</td>\n",
       "      <td>211000.0</td>\n",
       "      <td>300000.0</td>\n",
       "      <td>3500000.0</td>\n",
       "    </tr>\n",
       "    <tr>\n",
       "      <th>Size</th>\n",
       "      <td>10.0</td>\n",
       "      <td>70.0</td>\n",
       "      <td>100.0</td>\n",
       "      <td>200.0</td>\n",
       "      <td>850.0</td>\n",
       "      <td>2000.0</td>\n",
       "      <td>2500.00</td>\n",
       "      <td>2800.0</td>\n",
       "      <td>3289.2</td>\n",
       "      <td>8000.0</td>\n",
       "    </tr>\n",
       "    <tr>\n",
       "      <th>Bathroom</th>\n",
       "      <td>1.0</td>\n",
       "      <td>1.0</td>\n",
       "      <td>1.0</td>\n",
       "      <td>1.0</td>\n",
       "      <td>2.0</td>\n",
       "      <td>3.0</td>\n",
       "      <td>4.00</td>\n",
       "      <td>4.0</td>\n",
       "      <td>5.0</td>\n",
       "      <td>10.0</td>\n",
       "    </tr>\n",
       "    <tr>\n",
       "      <th>Floor_Num</th>\n",
       "      <td>-2.0</td>\n",
       "      <td>0.0</td>\n",
       "      <td>0.0</td>\n",
       "      <td>0.0</td>\n",
       "      <td>2.0</td>\n",
       "      <td>14.0</td>\n",
       "      <td>17.65</td>\n",
       "      <td>20.0</td>\n",
       "      <td>27.0</td>\n",
       "      <td>76.0</td>\n",
       "    </tr>\n",
       "    <tr>\n",
       "      <th>Floor_Count</th>\n",
       "      <td>0.0</td>\n",
       "      <td>1.0</td>\n",
       "      <td>1.0</td>\n",
       "      <td>1.0</td>\n",
       "      <td>4.0</td>\n",
       "      <td>24.0</td>\n",
       "      <td>31.00</td>\n",
       "      <td>37.0</td>\n",
       "      <td>51.0</td>\n",
       "      <td>89.0</td>\n",
       "    </tr>\n",
       "  </tbody>\n",
       "</table>\n",
       "</div>"
      ],
      "text/plain": [
       "                min      1%      2%      5%      50%       95%        97%  \\\n",
       "Rent         1200.0  4000.0  5000.0  6000.0  16000.0  130000.0  180000.00   \n",
       "Size           10.0    70.0   100.0   200.0    850.0    2000.0    2500.00   \n",
       "Bathroom        1.0     1.0     1.0     1.0      2.0       3.0       4.00   \n",
       "Floor_Num      -2.0     0.0     0.0     0.0      2.0      14.0      17.65   \n",
       "Floor_Count     0.0     1.0     1.0     1.0      4.0      24.0      31.00   \n",
       "\n",
       "                  98%       99%        max  \n",
       "Rent         211000.0  300000.0  3500000.0  \n",
       "Size           2800.0    3289.2     8000.0  \n",
       "Bathroom          4.0       5.0       10.0  \n",
       "Floor_Num        20.0      27.0       76.0  \n",
       "Floor_Count      37.0      51.0       89.0  "
      ]
     },
     "execution_count": 37,
     "metadata": {},
     "output_type": "execute_result"
    }
   ],
   "source": [
    "num_cols\n",
    "cols=['Rent','Size','Bathroom','Floor_Num','Floor_Count']\n",
    "a=df[cols].describe(percentiles=[0.01,0.02,0.05,0.95,0.97,0.98,0.99]).T\n",
    "a=a.iloc[:,3:]\n",
    "a"
   ]
  },
  {
   "cell_type": "code",
   "execution_count": 38,
   "id": "29040b46",
   "metadata": {},
   "outputs": [
    {
     "name": "stdout",
     "output_type": "stream",
     "text": [
      "[10 20 30 40 25 35 45]\n",
      "[20 30 40 50 18 28 38]\n"
     ]
    }
   ],
   "source": [
    "b1=np.array([10,20,30,40,25,35,45])\n",
    "print(b1)\n",
    "b2=np.where(b1%2==0,b1+10,b1-7)\n",
    "# if b1 is divisible by 2 , then b1+10 else b1-7\n",
    "print(b2)"
   ]
  },
  {
   "cell_type": "code",
   "execution_count": 39,
   "id": "345f987b",
   "metadata": {},
   "outputs": [],
   "source": [
    "df1=df.copy()"
   ]
  },
  {
   "cell_type": "code",
   "execution_count": 40,
   "id": "7f852540",
   "metadata": {},
   "outputs": [],
   "source": [
    "# df['Rent']=np.where(df['Rent']>300000,300000,df['Rent'])\n",
    "df['Rent']=np.where(df['Rent']<4000,4000,df['Rent'])        # Upper end outliers\n",
    "df['Size']=np.where(df['Size']<70,70,df['Size'])                # Lower end outliers"
   ]
  },
  {
   "cell_type": "code",
   "execution_count": 41,
   "id": "db2ae0a8",
   "metadata": {},
   "outputs": [],
   "source": [
    "# def outliers_treatment_lower(x):\n",
    "# x=x.clip(lower=x.quantile(0.01))        # clip=Replace\n",
    "# return x"
   ]
  },
  {
   "cell_type": "code",
   "execution_count": 42,
   "id": "d997bd85",
   "metadata": {},
   "outputs": [],
   "source": [
    "def outliers_treatment(x):\n",
    "    x=x.clip(upper=x.quantile(0.99))        # clip=Replace\n",
    "    return x"
   ]
  },
  {
   "cell_type": "code",
   "execution_count": 43,
   "id": "7bd67aaa",
   "metadata": {},
   "outputs": [],
   "source": [
    "cols=['Rent','Size','Bathroom','Floor_Num','Floor_Count']\n",
    "df[cols]=df[cols].apply(outliers_treatment)"
   ]
  },
  {
   "cell_type": "markdown",
   "id": "c94bf5ba",
   "metadata": {},
   "source": [
    "### Encode Categorical Features"
   ]
  },
  {
   "cell_type": "code",
   "execution_count": 44,
   "id": "d7be8bb4",
   "metadata": {},
   "outputs": [
    {
     "data": {
      "text/plain": [
       "Index(['Area Type', 'City', 'Furnishing Status', 'Tenant Preferred',\n",
       "       'Point of Contact'],\n",
       "      dtype='object')"
      ]
     },
     "execution_count": 44,
     "metadata": {},
     "output_type": "execute_result"
    }
   ],
   "source": [
    "cat_cols=df.dtypes[df.dtypes=='object'].index\n",
    "cat_cols"
   ]
  },
  {
   "cell_type": "code",
   "execution_count": 45,
   "id": "bd4142b3",
   "metadata": {},
   "outputs": [
    {
     "name": "stdout",
     "output_type": "stream",
     "text": [
      "Area Type 3\n",
      "City 6\n",
      "Furnishing Status 3\n",
      "Tenant Preferred 3\n",
      "Point of Contact 3\n"
     ]
    }
   ],
   "source": [
    "for i in cat_cols:\n",
    "    print(i,df[i].nunique())"
   ]
  },
  {
   "cell_type": "code",
   "execution_count": 46,
   "id": "717238cd",
   "metadata": {},
   "outputs": [
    {
     "name": "stdout",
     "output_type": "stream",
     "text": [
      "(4746, 20)\n"
     ]
    },
    {
     "data": {
      "text/plain": [
       "Index(['BHK', 'Rent', 'Size', 'Bathroom', 'Month_Posted', 'Floor_Num',\n",
       "       'Floor_Count', 'Area Type_Carpet Area', 'Area Type_Super Area',\n",
       "       'City_Chennai', 'City_Delhi', 'City_Hyderabad', 'City_Kolkata',\n",
       "       'City_Mumbai', 'Furnishing Status_Semi-Furnished',\n",
       "       'Furnishing Status_Unfurnished', 'Tenant Preferred_Bachelors/Family',\n",
       "       'Tenant Preferred_Family', 'Point of Contact_Contact Builder',\n",
       "       'Point of Contact_Contact Owner'],\n",
       "      dtype='object')"
      ]
     },
     "execution_count": 46,
     "metadata": {},
     "output_type": "execute_result"
    }
   ],
   "source": [
    "df_dum=pd.get_dummies(data=df,columns=cat_cols,drop_first=True,dtype=int)\n",
    "print(df_dum.shape)\n",
    "df_dum.columns"
   ]
  },
  {
   "cell_type": "markdown",
   "id": "00768308",
   "metadata": {},
   "source": [
    "#### Select x and y"
   ]
  },
  {
   "cell_type": "code",
   "execution_count": 47,
   "id": "66819f31",
   "metadata": {},
   "outputs": [
    {
     "name": "stdout",
     "output_type": "stream",
     "text": [
      "(4746, 18)\n",
      "(4746,)\n"
     ]
    }
   ],
   "source": [
    "x=df_dum.drop(['Rent','Month_Posted'],axis=1)      # independent features\n",
    "y=df_dum['Rent']                  # dependent features / target\n",
    "print(x.shape)     # df\n",
    "print(y.shape)     # Series"
   ]
  },
  {
   "cell_type": "code",
   "execution_count": 4,
   "id": "8d82ee4c",
   "metadata": {},
   "outputs": [
    {
     "data": {
      "text/html": [
       "<div>\n",
       "<style scoped>\n",
       "    .dataframe tbody tr th:only-of-type {\n",
       "        vertical-align: middle;\n",
       "    }\n",
       "\n",
       "    .dataframe tbody tr th {\n",
       "        vertical-align: top;\n",
       "    }\n",
       "\n",
       "    .dataframe thead th {\n",
       "        text-align: right;\n",
       "    }\n",
       "</style>\n",
       "<table border=\"1\" class=\"dataframe\">\n",
       "  <thead>\n",
       "    <tr style=\"text-align: right;\">\n",
       "      <th></th>\n",
       "      <th>Posted On</th>\n",
       "      <th>BHK</th>\n",
       "      <th>Rent</th>\n",
       "      <th>Size</th>\n",
       "      <th>Floor</th>\n",
       "      <th>Area Type</th>\n",
       "      <th>Area Locality</th>\n",
       "      <th>City</th>\n",
       "      <th>Furnishing Status</th>\n",
       "      <th>Tenant Preferred</th>\n",
       "      <th>Bathroom</th>\n",
       "      <th>Point of Contact</th>\n",
       "    </tr>\n",
       "  </thead>\n",
       "  <tbody>\n",
       "    <tr>\n",
       "      <th>0</th>\n",
       "      <td>2022-05-18</td>\n",
       "      <td>2</td>\n",
       "      <td>10000</td>\n",
       "      <td>1100</td>\n",
       "      <td>Ground out of 2</td>\n",
       "      <td>Super Area</td>\n",
       "      <td>Bandel</td>\n",
       "      <td>Kolkata</td>\n",
       "      <td>Unfurnished</td>\n",
       "      <td>Bachelors/Family</td>\n",
       "      <td>2</td>\n",
       "      <td>Contact Owner</td>\n",
       "    </tr>\n",
       "    <tr>\n",
       "      <th>1</th>\n",
       "      <td>2022-05-13</td>\n",
       "      <td>2</td>\n",
       "      <td>20000</td>\n",
       "      <td>800</td>\n",
       "      <td>1 out of 3</td>\n",
       "      <td>Super Area</td>\n",
       "      <td>Phool Bagan, Kankurgachi</td>\n",
       "      <td>Kolkata</td>\n",
       "      <td>Semi-Furnished</td>\n",
       "      <td>Bachelors/Family</td>\n",
       "      <td>1</td>\n",
       "      <td>Contact Owner</td>\n",
       "    </tr>\n",
       "    <tr>\n",
       "      <th>2</th>\n",
       "      <td>2022-05-16</td>\n",
       "      <td>2</td>\n",
       "      <td>17000</td>\n",
       "      <td>1000</td>\n",
       "      <td>1 out of 3</td>\n",
       "      <td>Super Area</td>\n",
       "      <td>Salt Lake City Sector 2</td>\n",
       "      <td>Kolkata</td>\n",
       "      <td>Semi-Furnished</td>\n",
       "      <td>Bachelors/Family</td>\n",
       "      <td>1</td>\n",
       "      <td>Contact Owner</td>\n",
       "    </tr>\n",
       "    <tr>\n",
       "      <th>3</th>\n",
       "      <td>2022-07-04</td>\n",
       "      <td>2</td>\n",
       "      <td>10000</td>\n",
       "      <td>800</td>\n",
       "      <td>1 out of 2</td>\n",
       "      <td>Super Area</td>\n",
       "      <td>Dumdum Park</td>\n",
       "      <td>Kolkata</td>\n",
       "      <td>Unfurnished</td>\n",
       "      <td>Bachelors/Family</td>\n",
       "      <td>1</td>\n",
       "      <td>Contact Owner</td>\n",
       "    </tr>\n",
       "    <tr>\n",
       "      <th>4</th>\n",
       "      <td>2022-05-09</td>\n",
       "      <td>2</td>\n",
       "      <td>7500</td>\n",
       "      <td>850</td>\n",
       "      <td>1 out of 2</td>\n",
       "      <td>Carpet Area</td>\n",
       "      <td>South Dum Dum</td>\n",
       "      <td>Kolkata</td>\n",
       "      <td>Unfurnished</td>\n",
       "      <td>Bachelors</td>\n",
       "      <td>1</td>\n",
       "      <td>Contact Owner</td>\n",
       "    </tr>\n",
       "  </tbody>\n",
       "</table>\n",
       "</div>"
      ],
      "text/plain": [
       "    Posted On  BHK   Rent  Size            Floor    Area Type  \\\n",
       "0  2022-05-18    2  10000  1100  Ground out of 2   Super Area   \n",
       "1  2022-05-13    2  20000   800       1 out of 3   Super Area   \n",
       "2  2022-05-16    2  17000  1000       1 out of 3   Super Area   \n",
       "3  2022-07-04    2  10000   800       1 out of 2   Super Area   \n",
       "4  2022-05-09    2   7500   850       1 out of 2  Carpet Area   \n",
       "\n",
       "              Area Locality     City Furnishing Status  Tenant Preferred  \\\n",
       "0                    Bandel  Kolkata       Unfurnished  Bachelors/Family   \n",
       "1  Phool Bagan, Kankurgachi  Kolkata    Semi-Furnished  Bachelors/Family   \n",
       "2   Salt Lake City Sector 2  Kolkata    Semi-Furnished  Bachelors/Family   \n",
       "3               Dumdum Park  Kolkata       Unfurnished  Bachelors/Family   \n",
       "4             South Dum Dum  Kolkata       Unfurnished         Bachelors   \n",
       "\n",
       "   Bathroom Point of Contact  \n",
       "0         2    Contact Owner  \n",
       "1         1    Contact Owner  \n",
       "2         1    Contact Owner  \n",
       "3         1    Contact Owner  \n",
       "4         1    Contact Owner  "
      ]
     },
     "execution_count": 4,
     "metadata": {},
     "output_type": "execute_result"
    }
   ],
   "source": [
    "df.head()"
   ]
  },
  {
   "cell_type": "code",
   "execution_count": 48,
   "id": "fd1fdaf0",
   "metadata": {},
   "outputs": [],
   "source": [
    "# No missing values\n",
    "# no/min outliers\n",
    "# Multicolinearity - VIF\n",
    "# target vra is normallly distributed"
   ]
  },
  {
   "cell_type": "markdown",
   "id": "23eff2ae",
   "metadata": {},
   "source": [
    "### Check Multicolineraity"
   ]
  },
  {
   "cell_type": "code",
   "execution_count": 49,
   "id": "a87dcc06",
   "metadata": {},
   "outputs": [],
   "source": [
    "from statsmodels.stats.outliers_influence import variance_inflation_factor"
   ]
  },
  {
   "cell_type": "code",
   "execution_count": 50,
   "id": "5212ad55",
   "metadata": {},
   "outputs": [
    {
     "data": {
      "text/html": [
       "<div>\n",
       "<style scoped>\n",
       "    .dataframe tbody tr th:only-of-type {\n",
       "        vertical-align: middle;\n",
       "    }\n",
       "\n",
       "    .dataframe tbody tr th {\n",
       "        vertical-align: top;\n",
       "    }\n",
       "\n",
       "    .dataframe thead th {\n",
       "        text-align: right;\n",
       "    }\n",
       "</style>\n",
       "<table border=\"1\" class=\"dataframe\">\n",
       "  <thead>\n",
       "    <tr style=\"text-align: right;\">\n",
       "      <th></th>\n",
       "      <th>Features</th>\n",
       "      <th>VIF</th>\n",
       "    </tr>\n",
       "  </thead>\n",
       "  <tbody>\n",
       "    <tr>\n",
       "      <th>0</th>\n",
       "      <td>BHK</td>\n",
       "      <td>25.680781</td>\n",
       "    </tr>\n",
       "    <tr>\n",
       "      <th>2</th>\n",
       "      <td>Bathroom</td>\n",
       "      <td>25.116766</td>\n",
       "    </tr>\n",
       "    <tr>\n",
       "      <th>6</th>\n",
       "      <td>Area Type_Super Area</td>\n",
       "      <td>18.705074</td>\n",
       "    </tr>\n",
       "    <tr>\n",
       "      <th>5</th>\n",
       "      <td>Area Type_Carpet Area</td>\n",
       "      <td>14.659390</td>\n",
       "    </tr>\n",
       "    <tr>\n",
       "      <th>1</th>\n",
       "      <td>Size</td>\n",
       "      <td>10.911196</td>\n",
       "    </tr>\n",
       "    <tr>\n",
       "      <th>4</th>\n",
       "      <td>Floor_Count</td>\n",
       "      <td>7.179378</td>\n",
       "    </tr>\n",
       "    <tr>\n",
       "      <th>17</th>\n",
       "      <td>Point of Contact_Contact Owner</td>\n",
       "      <td>6.442403</td>\n",
       "    </tr>\n",
       "    <tr>\n",
       "      <th>14</th>\n",
       "      <td>Tenant Preferred_Bachelors/Family</td>\n",
       "      <td>6.094794</td>\n",
       "    </tr>\n",
       "    <tr>\n",
       "      <th>3</th>\n",
       "      <td>Floor_Num</td>\n",
       "      <td>5.693691</td>\n",
       "    </tr>\n",
       "    <tr>\n",
       "      <th>12</th>\n",
       "      <td>Furnishing Status_Semi-Furnished</td>\n",
       "      <td>4.470279</td>\n",
       "    </tr>\n",
       "    <tr>\n",
       "      <th>13</th>\n",
       "      <td>Furnishing Status_Unfurnished</td>\n",
       "      <td>3.886795</td>\n",
       "    </tr>\n",
       "    <tr>\n",
       "      <th>11</th>\n",
       "      <td>City_Mumbai</td>\n",
       "      <td>3.513128</td>\n",
       "    </tr>\n",
       "    <tr>\n",
       "      <th>9</th>\n",
       "      <td>City_Hyderabad</td>\n",
       "      <td>2.083466</td>\n",
       "    </tr>\n",
       "    <tr>\n",
       "      <th>7</th>\n",
       "      <td>City_Chennai</td>\n",
       "      <td>2.068823</td>\n",
       "    </tr>\n",
       "    <tr>\n",
       "      <th>8</th>\n",
       "      <td>City_Delhi</td>\n",
       "      <td>1.847799</td>\n",
       "    </tr>\n",
       "    <tr>\n",
       "      <th>10</th>\n",
       "      <td>City_Kolkata</td>\n",
       "      <td>1.761531</td>\n",
       "    </tr>\n",
       "    <tr>\n",
       "      <th>15</th>\n",
       "      <td>Tenant Preferred_Family</td>\n",
       "      <td>1.669071</td>\n",
       "    </tr>\n",
       "    <tr>\n",
       "      <th>16</th>\n",
       "      <td>Point of Contact_Contact Builder</td>\n",
       "      <td>1.004458</td>\n",
       "    </tr>\n",
       "  </tbody>\n",
       "</table>\n",
       "</div>"
      ],
      "text/plain": [
       "                             Features        VIF\n",
       "0                                 BHK  25.680781\n",
       "2                            Bathroom  25.116766\n",
       "6                Area Type_Super Area  18.705074\n",
       "5               Area Type_Carpet Area  14.659390\n",
       "1                                Size  10.911196\n",
       "4                         Floor_Count   7.179378\n",
       "17     Point of Contact_Contact Owner   6.442403\n",
       "14  Tenant Preferred_Bachelors/Family   6.094794\n",
       "3                           Floor_Num   5.693691\n",
       "12   Furnishing Status_Semi-Furnished   4.470279\n",
       "13      Furnishing Status_Unfurnished   3.886795\n",
       "11                        City_Mumbai   3.513128\n",
       "9                      City_Hyderabad   2.083466\n",
       "7                        City_Chennai   2.068823\n",
       "8                          City_Delhi   1.847799\n",
       "10                       City_Kolkata   1.761531\n",
       "15            Tenant Preferred_Family   1.669071\n",
       "16   Point of Contact_Contact Builder   1.004458"
      ]
     },
     "execution_count": 50,
     "metadata": {},
     "output_type": "execute_result"
    }
   ],
   "source": [
    "vif=pd.DataFrame()\n",
    "vif['Features']=x.columns\n",
    "vif['VIF']=[variance_inflation_factor(x.values,i) for i in range (x.shape[1])]   # i=0,1,2,3\n",
    "vif=vif.sort_values(by='VIF',ascending=False)\n",
    "vif"
   ]
  },
  {
   "cell_type": "markdown",
   "id": "68252e46",
   "metadata": {},
   "source": [
    "### Dependent Variable is Normally Distributed or not"
   ]
  },
  {
   "cell_type": "code",
   "execution_count": 51,
   "id": "b3eb5db2",
   "metadata": {},
   "outputs": [
    {
     "data": {
      "text/plain": [
       "(4746, 12)"
      ]
     },
     "execution_count": 51,
     "metadata": {},
     "output_type": "execute_result"
    }
   ],
   "source": [
    "df.shape"
   ]
  },
  {
   "cell_type": "code",
   "execution_count": 52,
   "id": "2f214ff6",
   "metadata": {},
   "outputs": [],
   "source": [
    "from scipy.stats import shapiro\n",
    "# Ho: Data is normally Distributed       => p>0.05\n",
    "# H1: Data is not normally Distributed   => p<=0.05"
   ]
  },
  {
   "cell_type": "code",
   "execution_count": 53,
   "id": "cc41bb0f",
   "metadata": {},
   "outputs": [
    {
     "name": "stdout",
     "output_type": "stream",
     "text": [
      "ShapiroResult(statistic=0.5475691556930542, pvalue=0.0)\n",
      "ShapiroResult(statistic=0.9468694925308228, pvalue=2.3573553610873884e-38)\n"
     ]
    }
   ],
   "source": [
    "print(shapiro(df_dum['Rent']))              # test_stat, p\n",
    "print(shapiro(np.log(df_dum['Rent'])))"
   ]
  },
  {
   "cell_type": "code",
   "execution_count": 54,
   "id": "e4169be2",
   "metadata": {},
   "outputs": [
    {
     "data": {
      "image/png": "[encoded data removed]",
      "text/plain": [
       "<Figure size 640x480 with 1 Axes>"
      ]
     },
     "metadata": {},
     "output_type": "display_data"
    }
   ],
   "source": [
    "sns.histplot(df_dum['Rent'])\n",
    "plt.show()"
   ]
  },
  {
   "cell_type": "code",
   "execution_count": 60,
   "id": "deb6a780",
   "metadata": {},
   "outputs": [
    {
     "data": {
      "image/png": "[encoded data removed]",
      "text/plain": [
       "<Figure size 640x480 with 1 Axes>"
      ]
     },
     "metadata": {},
     "output_type": "display_data"
    }
   ],
   "source": [
    "sns.histplot(np.log(df_dum['Rent']))\n",
    "plt.show()"
   ]
  },
  {
   "cell_type": "markdown",
   "id": "e25198b1",
   "metadata": {},
   "source": [
    "## OLS Model"
   ]
  },
  {
   "cell_type": "code",
   "execution_count": 61,
   "id": "6650974a",
   "metadata": {},
   "outputs": [],
   "source": [
    "import statsmodels.api as sm"
   ]
  },
  {
   "cell_type": "code",
   "execution_count": 63,
   "id": "dce9c41c",
   "metadata": {},
   "outputs": [],
   "source": [
    "x1=x.copy()\n",
    "y1=y.copy()"
   ]
  },
  {
   "cell_type": "code",
   "execution_count": 64,
   "id": "1404cf8a",
   "metadata": {},
   "outputs": [
    {
     "data": {
      "text/html": [
       "<table class=\"simpletable\">\n",
       "<caption>OLS Regression Results</caption>\n",
       "<tr>\n",
       "  <th>Dep. Variable:</th>          <td>Rent</td>       <th>  R-squared:         </th> <td>   0.630</td> \n",
       "</tr>\n",
       "<tr>\n",
       "  <th>Model:</th>                   <td>OLS</td>       <th>  Adj. R-squared:    </th> <td>   0.628</td> \n",
       "</tr>\n",
       "<tr>\n",
       "  <th>Method:</th>             <td>Least Squares</td>  <th>  F-statistic:       </th> <td>   446.9</td> \n",
       "</tr>\n",
       "<tr>\n",
       "  <th>Date:</th>             <td>Thu, 08 Feb 2024</td> <th>  Prob (F-statistic):</th>  <td>  0.00</td>  \n",
       "</tr>\n",
       "<tr>\n",
       "  <th>Time:</th>                 <td>10:33:45</td>     <th>  Log-Likelihood:    </th> <td> -55515.</td> \n",
       "</tr>\n",
       "<tr>\n",
       "  <th>No. Observations:</th>      <td>  4746</td>      <th>  AIC:               </th> <td>1.111e+05</td>\n",
       "</tr>\n",
       "<tr>\n",
       "  <th>Df Residuals:</th>          <td>  4727</td>      <th>  BIC:               </th> <td>1.112e+05</td>\n",
       "</tr>\n",
       "<tr>\n",
       "  <th>Df Model:</th>              <td>    18</td>      <th>                     </th>     <td> </td>    \n",
       "</tr>\n",
       "<tr>\n",
       "  <th>Covariance Type:</th>      <td>nonrobust</td>    <th>                     </th>     <td> </td>    \n",
       "</tr>\n",
       "</table>\n",
       "<table class=\"simpletable\">\n",
       "<tr>\n",
       "                  <td></td>                     <th>coef</th>     <th>std err</th>      <th>t</th>      <th>P>|t|</th>  <th>[0.025</th>    <th>0.975]</th>  \n",
       "</tr>\n",
       "<tr>\n",
       "  <th>const</th>                             <td>-2.004e+04</td> <td> 2.08e+04</td> <td>   -0.966</td> <td> 0.334</td> <td>-6.07e+04</td> <td> 2.06e+04</td>\n",
       "</tr>\n",
       "<tr>\n",
       "  <th>BHK</th>                               <td> 1884.0384</td> <td>  955.669</td> <td>    1.971</td> <td> 0.049</td> <td>   10.482</td> <td> 3757.595</td>\n",
       "</tr>\n",
       "<tr>\n",
       "  <th>Size</th>                              <td>   27.2297</td> <td>    1.243</td> <td>   21.903</td> <td> 0.000</td> <td>   24.793</td> <td>   29.667</td>\n",
       "</tr>\n",
       "<tr>\n",
       "  <th>Bathroom</th>                          <td> 1.282e+04</td> <td>  990.168</td> <td>   12.951</td> <td> 0.000</td> <td> 1.09e+04</td> <td> 1.48e+04</td>\n",
       "</tr>\n",
       "<tr>\n",
       "  <th>Floor_Num</th>                         <td>  353.0570</td> <td>  173.556</td> <td>    2.034</td> <td> 0.042</td> <td>   12.806</td> <td>  693.308</td>\n",
       "</tr>\n",
       "<tr>\n",
       "  <th>Floor_Count</th>                       <td>  624.2956</td> <td>  103.351</td> <td>    6.041</td> <td> 0.000</td> <td>  421.679</td> <td>  826.912</td>\n",
       "</tr>\n",
       "<tr>\n",
       "  <th>Area Type_Carpet Area</th>             <td>-2575.2825</td> <td> 2.07e+04</td> <td>   -0.125</td> <td> 0.901</td> <td>-4.31e+04</td> <td> 3.79e+04</td>\n",
       "</tr>\n",
       "<tr>\n",
       "  <th>Area Type_Super Area</th>              <td>-4677.0683</td> <td> 2.06e+04</td> <td>   -0.227</td> <td> 0.821</td> <td>-4.51e+04</td> <td> 3.58e+04</td>\n",
       "</tr>\n",
       "<tr>\n",
       "  <th>City_Chennai</th>                      <td>-3017.8346</td> <td> 1405.977</td> <td>   -2.146</td> <td> 0.032</td> <td>-5774.204</td> <td> -261.465</td>\n",
       "</tr>\n",
       "<tr>\n",
       "  <th>City_Delhi</th>                        <td> 1.022e+04</td> <td> 1612.308</td> <td>    6.336</td> <td> 0.000</td> <td> 7054.407</td> <td> 1.34e+04</td>\n",
       "</tr>\n",
       "<tr>\n",
       "  <th>City_Hyderabad</th>                    <td>-1.073e+04</td> <td> 1429.277</td> <td>   -7.505</td> <td> 0.000</td> <td>-1.35e+04</td> <td>-7924.395</td>\n",
       "</tr>\n",
       "<tr>\n",
       "  <th>City_Kolkata</th>                      <td> 1816.3262</td> <td> 1690.837</td> <td>    1.074</td> <td> 0.283</td> <td>-1498.502</td> <td> 5131.154</td>\n",
       "</tr>\n",
       "<tr>\n",
       "  <th>City_Mumbai</th>                       <td> 3.789e+04</td> <td> 1753.756</td> <td>   21.606</td> <td> 0.000</td> <td> 3.45e+04</td> <td> 4.13e+04</td>\n",
       "</tr>\n",
       "<tr>\n",
       "  <th>Furnishing Status_Semi-Furnished</th>  <td>-9253.5495</td> <td> 1299.561</td> <td>   -7.121</td> <td> 0.000</td> <td>-1.18e+04</td> <td>-6705.804</td>\n",
       "</tr>\n",
       "<tr>\n",
       "  <th>Furnishing Status_Unfurnished</th>     <td>-8434.0547</td> <td> 1349.939</td> <td>   -6.248</td> <td> 0.000</td> <td>-1.11e+04</td> <td>-5787.545</td>\n",
       "</tr>\n",
       "<tr>\n",
       "  <th>Tenant Preferred_Bachelors/Family</th> <td> 2999.7221</td> <td> 1228.292</td> <td>    2.442</td> <td> 0.015</td> <td>  591.697</td> <td> 5407.748</td>\n",
       "</tr>\n",
       "<tr>\n",
       "  <th>Tenant Preferred_Family</th>           <td>-4732.4560</td> <td> 1734.103</td> <td>   -2.729</td> <td> 0.006</td> <td>-8132.107</td> <td>-1332.805</td>\n",
       "</tr>\n",
       "<tr>\n",
       "  <th>Point of Contact_Contact Builder</th>  <td> 1.918e+04</td> <td> 2.92e+04</td> <td>    0.656</td> <td> 0.512</td> <td>-3.81e+04</td> <td> 7.65e+04</td>\n",
       "</tr>\n",
       "<tr>\n",
       "  <th>Point of Contact_Contact Owner</th>    <td>-7095.6125</td> <td> 1307.259</td> <td>   -5.428</td> <td> 0.000</td> <td>-9658.449</td> <td>-4532.776</td>\n",
       "</tr>\n",
       "</table>\n",
       "<table class=\"simpletable\">\n",
       "<tr>\n",
       "  <th>Omnibus:</th>       <td>2848.824</td> <th>  Durbin-Watson:     </th> <td>   1.966</td> \n",
       "</tr>\n",
       "<tr>\n",
       "  <th>Prob(Omnibus):</th>  <td> 0.000</td>  <th>  Jarque-Bera (JB):  </th> <td>41600.641</td>\n",
       "</tr>\n",
       "<tr>\n",
       "  <th>Skew:</th>           <td> 2.605</td>  <th>  Prob(JB):          </th> <td>    0.00</td> \n",
       "</tr>\n",
       "<tr>\n",
       "  <th>Kurtosis:</th>       <td>16.536</td>  <th>  Cond. No.          </th> <td>9.50e+04</td> \n",
       "</tr>\n",
       "</table><br/><br/>Notes:<br/>[1] Standard Errors assume that the covariance matrix of the errors is correctly specified.<br/>[2] The condition number is large, 9.5e+04. This might indicate that there are<br/>strong multicollinearity or other numerical problems."
      ],
      "text/latex": [
       "\\begin{center}\n",
       "\\begin{tabular}{lclc}\n",
       "\\toprule\n",
       "\\textbf{Dep. Variable:}                     &       Rent       & \\textbf{  R-squared:         } &     0.630   \\\\\n",
       "\\textbf{Model:}                             &       OLS        & \\textbf{  Adj. R-squared:    } &     0.628   \\\\\n",
       "\\textbf{Method:}                            &  Least Squares   & \\textbf{  F-statistic:       } &     446.9   \\\\\n",
       "\\textbf{Date:}                              & Thu, 08 Feb 2024 & \\textbf{  Prob (F-statistic):} &     0.00    \\\\\n",
       "\\textbf{Time:}                              &     10:33:45     & \\textbf{  Log-Likelihood:    } &   -55515.   \\\\\n",
       "\\textbf{No. Observations:}                  &        4746      & \\textbf{  AIC:               } & 1.111e+05   \\\\\n",
       "\\textbf{Df Residuals:}                      &        4727      & \\textbf{  BIC:               } & 1.112e+05   \\\\\n",
       "\\textbf{Df Model:}                          &          18      & \\textbf{                     } &             \\\\\n",
       "\\textbf{Covariance Type:}                   &    nonrobust     & \\textbf{                     } &             \\\\\n",
       "\\bottomrule\n",
       "\\end{tabular}\n",
       "\\begin{tabular}{lcccccc}\n",
       "                                            & \\textbf{coef} & \\textbf{std err} & \\textbf{t} & \\textbf{P$> |$t$|$} & \\textbf{[0.025} & \\textbf{0.975]}  \\\\\n",
       "\\midrule\n",
       "\\textbf{const}                              &   -2.004e+04  &     2.08e+04     &    -0.966  &         0.334        &    -6.07e+04    &     2.06e+04     \\\\\n",
       "\\textbf{BHK}                                &    1884.0384  &      955.669     &     1.971  &         0.049        &       10.482    &     3757.595     \\\\\n",
       "\\textbf{Size}                               &      27.2297  &        1.243     &    21.903  &         0.000        &       24.793    &       29.667     \\\\\n",
       "\\textbf{Bathroom}                           &    1.282e+04  &      990.168     &    12.951  &         0.000        &     1.09e+04    &     1.48e+04     \\\\\n",
       "\\textbf{Floor\\_Num}                         &     353.0570  &      173.556     &     2.034  &         0.042        &       12.806    &      693.308     \\\\\n",
       "\\textbf{Floor\\_Count}                       &     624.2956  &      103.351     &     6.041  &         0.000        &      421.679    &      826.912     \\\\\n",
       "\\textbf{Area Type\\_Carpet Area}             &   -2575.2825  &     2.07e+04     &    -0.125  &         0.901        &    -4.31e+04    &     3.79e+04     \\\\\n",
       "\\textbf{Area Type\\_Super Area}              &   -4677.0683  &     2.06e+04     &    -0.227  &         0.821        &    -4.51e+04    &     3.58e+04     \\\\\n",
       "\\textbf{City\\_Chennai}                      &   -3017.8346  &     1405.977     &    -2.146  &         0.032        &    -5774.204    &     -261.465     \\\\\n",
       "\\textbf{City\\_Delhi}                        &    1.022e+04  &     1612.308     &     6.336  &         0.000        &     7054.407    &     1.34e+04     \\\\\n",
       "\\textbf{City\\_Hyderabad}                    &   -1.073e+04  &     1429.277     &    -7.505  &         0.000        &    -1.35e+04    &    -7924.395     \\\\\n",
       "\\textbf{City\\_Kolkata}                      &    1816.3262  &     1690.837     &     1.074  &         0.283        &    -1498.502    &     5131.154     \\\\\n",
       "\\textbf{City\\_Mumbai}                       &    3.789e+04  &     1753.756     &    21.606  &         0.000        &     3.45e+04    &     4.13e+04     \\\\\n",
       "\\textbf{Furnishing Status\\_Semi-Furnished}  &   -9253.5495  &     1299.561     &    -7.121  &         0.000        &    -1.18e+04    &    -6705.804     \\\\\n",
       "\\textbf{Furnishing Status\\_Unfurnished}     &   -8434.0547  &     1349.939     &    -6.248  &         0.000        &    -1.11e+04    &    -5787.545     \\\\\n",
       "\\textbf{Tenant Preferred\\_Bachelors/Family} &    2999.7221  &     1228.292     &     2.442  &         0.015        &      591.697    &     5407.748     \\\\\n",
       "\\textbf{Tenant Preferred\\_Family}           &   -4732.4560  &     1734.103     &    -2.729  &         0.006        &    -8132.107    &    -1332.805     \\\\\n",
       "\\textbf{Point of Contact\\_Contact Builder}  &    1.918e+04  &     2.92e+04     &     0.656  &         0.512        &    -3.81e+04    &     7.65e+04     \\\\\n",
       "\\textbf{Point of Contact\\_Contact Owner}    &   -7095.6125  &     1307.259     &    -5.428  &         0.000        &    -9658.449    &    -4532.776     \\\\\n",
       "\\bottomrule\n",
       "\\end{tabular}\n",
       "\\begin{tabular}{lclc}\n",
       "\\textbf{Omnibus:}       & 2848.824 & \\textbf{  Durbin-Watson:     } &     1.966  \\\\\n",
       "\\textbf{Prob(Omnibus):} &   0.000  & \\textbf{  Jarque-Bera (JB):  } & 41600.641  \\\\\n",
       "\\textbf{Skew:}          &   2.605  & \\textbf{  Prob(JB):          } &      0.00  \\\\\n",
       "\\textbf{Kurtosis:}      &  16.536  & \\textbf{  Cond. No.          } &  9.50e+04  \\\\\n",
       "\\bottomrule\n",
       "\\end{tabular}\n",
       "%\\caption{OLS Regression Results}\n",
       "\\end{center}\n",
       "\n",
       "Notes: \\newline\n",
       " [1] Standard Errors assume that the covariance matrix of the errors is correctly specified. \\newline\n",
       " [2] The condition number is large, 9.5e+04. This might indicate that there are \\newline\n",
       " strong multicollinearity or other numerical problems."
      ],
      "text/plain": [
       "<class 'statsmodels.iolib.summary.Summary'>\n",
       "\"\"\"\n",
       "                            OLS Regression Results                            \n",
       "==============================================================================\n",
       "Dep. Variable:                   Rent   R-squared:                       0.630\n",
       "Model:                            OLS   Adj. R-squared:                  0.628\n",
       "Method:                 Least Squares   F-statistic:                     446.9\n",
       "Date:                Thu, 08 Feb 2024   Prob (F-statistic):               0.00\n",
       "Time:                        10:33:45   Log-Likelihood:                -55515.\n",
       "No. Observations:                4746   AIC:                         1.111e+05\n",
       "Df Residuals:                    4727   BIC:                         1.112e+05\n",
       "Df Model:                          18                                         \n",
       "Covariance Type:            nonrobust                                         \n",
       "=====================================================================================================\n",
       "                                        coef    std err          t      P>|t|      [0.025      0.975]\n",
       "-----------------------------------------------------------------------------------------------------\n",
       "const                             -2.004e+04   2.08e+04     -0.966      0.334   -6.07e+04    2.06e+04\n",
       "BHK                                1884.0384    955.669      1.971      0.049      10.482    3757.595\n",
       "Size                                 27.2297      1.243     21.903      0.000      24.793      29.667\n",
       "Bathroom                           1.282e+04    990.168     12.951      0.000    1.09e+04    1.48e+04\n",
       "Floor_Num                           353.0570    173.556      2.034      0.042      12.806     693.308\n",
       "Floor_Count                         624.2956    103.351      6.041      0.000     421.679     826.912\n",
       "Area Type_Carpet Area             -2575.2825   2.07e+04     -0.125      0.901   -4.31e+04    3.79e+04\n",
       "Area Type_Super Area              -4677.0683   2.06e+04     -0.227      0.821   -4.51e+04    3.58e+04\n",
       "City_Chennai                      -3017.8346   1405.977     -2.146      0.032   -5774.204    -261.465\n",
       "City_Delhi                         1.022e+04   1612.308      6.336      0.000    7054.407    1.34e+04\n",
       "City_Hyderabad                    -1.073e+04   1429.277     -7.505      0.000   -1.35e+04   -7924.395\n",
       "City_Kolkata                       1816.3262   1690.837      1.074      0.283   -1498.502    5131.154\n",
       "City_Mumbai                        3.789e+04   1753.756     21.606      0.000    3.45e+04    4.13e+04\n",
       "Furnishing Status_Semi-Furnished  -9253.5495   1299.561     -7.121      0.000   -1.18e+04   -6705.804\n",
       "Furnishing Status_Unfurnished     -8434.0547   1349.939     -6.248      0.000   -1.11e+04   -5787.545\n",
       "Tenant Preferred_Bachelors/Family  2999.7221   1228.292      2.442      0.015     591.697    5407.748\n",
       "Tenant Preferred_Family           -4732.4560   1734.103     -2.729      0.006   -8132.107   -1332.805\n",
       "Point of Contact_Contact Builder   1.918e+04   2.92e+04      0.656      0.512   -3.81e+04    7.65e+04\n",
       "Point of Contact_Contact Owner    -7095.6125   1307.259     -5.428      0.000   -9658.449   -4532.776\n",
       "==============================================================================\n",
       "Omnibus:                     2848.824   Durbin-Watson:                   1.966\n",
       "Prob(Omnibus):                  0.000   Jarque-Bera (JB):            41600.641\n",
       "Skew:                           2.605   Prob(JB):                         0.00\n",
       "Kurtosis:                      16.536   Cond. No.                     9.50e+04\n",
       "==============================================================================\n",
       "\n",
       "Notes:\n",
       "[1] Standard Errors assume that the covariance matrix of the errors is correctly specified.\n",
       "[2] The condition number is large, 9.5e+04. This might indicate that there are\n",
       "strong multicollinearity or other numerical problems.\n",
       "\"\"\""
      ]
     },
     "execution_count": 64,
     "metadata": {},
     "output_type": "execute_result"
    }
   ],
   "source": [
    "x1=sm.add_constant(x1)\n",
    "ols_m1=sm.OLS(y1,x1).fit()\n",
    "ols_m1.summary()"
   ]
  },
  {
   "cell_type": "code",
   "execution_count": 65,
   "id": "9601d481",
   "metadata": {},
   "outputs": [
    {
     "name": "stdout",
     "output_type": "stream",
     "text": [
      "OLS_M1\n",
      "0.6298795563521852\n",
      "0.6284701702752525\n"
     ]
    }
   ],
   "source": [
    "print('OLS_M1')\n",
    "print(ols_m1.rsquared)\n",
    "print(ols_m1.rsquared_adj)"
   ]
  },
  {
   "cell_type": "code",
   "execution_count": 66,
   "id": "424b541b",
   "metadata": {},
   "outputs": [
    {
     "data": {
      "text/plain": [
       "const                               0.334209\n",
       "Area Type_Carpet Area               0.900789\n",
       "Area Type_Super Area                0.820725\n",
       "City_Kolkata                        0.282780\n",
       "Point of Contact_Contact Builder    0.511560\n",
       "dtype: float64"
      ]
     },
     "execution_count": 66,
     "metadata": {},
     "output_type": "execute_result"
    }
   ],
   "source": [
    "feat_with_high_p_val=ols_m1.pvalues[ols_m1.pvalues>0.05]\n",
    "feat_with_high_p_val"
   ]
  },
  {
   "cell_type": "markdown",
   "id": "57d5c35d",
   "metadata": {},
   "source": [
    "#### Drop Features with high p-value(p-val>0.05)"
   ]
  },
  {
   "cell_type": "code",
   "execution_count": 67,
   "id": "35081a8f",
   "metadata": {},
   "outputs": [
    {
     "name": "stdout",
     "output_type": "stream",
     "text": [
      "(4746, 17)\n",
      "Index(['BHK', 'Size', 'Bathroom', 'Floor_Num', 'Floor_Count',\n",
      "       'Area Type_Carpet Area', 'City_Chennai', 'City_Delhi', 'City_Hyderabad',\n",
      "       'City_Kolkata', 'City_Mumbai', 'Furnishing Status_Semi-Furnished',\n",
      "       'Furnishing Status_Unfurnished', 'Tenant Preferred_Bachelors/Family',\n",
      "       'Tenant Preferred_Family', 'Point of Contact_Contact Builder',\n",
      "       'Point of Contact_Contact Owner'],\n",
      "      dtype='object')\n",
      "(4746,)\n"
     ]
    }
   ],
   "source": [
    "x2=x.drop('Area Type_Super Area',axis=1)\n",
    "y2=np.log(y)\n",
    "print(x2.shape)\n",
    "print(x2.columns)\n",
    "print(y2.shape)"
   ]
  },
  {
   "cell_type": "markdown",
   "id": "0d21a168",
   "metadata": {},
   "source": [
    "## OLS MODEL 2"
   ]
  },
  {
   "cell_type": "code",
   "execution_count": 68,
   "id": "b17762cd",
   "metadata": {},
   "outputs": [
    {
     "data": {
      "text/html": [
       "<table class=\"simpletable\">\n",
       "<caption>OLS Regression Results</caption>\n",
       "<tr>\n",
       "  <th>Dep. Variable:</th>          <td>Rent</td>       <th>  R-squared:         </th> <td>   0.821</td>\n",
       "</tr>\n",
       "<tr>\n",
       "  <th>Model:</th>                   <td>OLS</td>       <th>  Adj. R-squared:    </th> <td>   0.820</td>\n",
       "</tr>\n",
       "<tr>\n",
       "  <th>Method:</th>             <td>Least Squares</td>  <th>  F-statistic:       </th> <td>   1277.</td>\n",
       "</tr>\n",
       "<tr>\n",
       "  <th>Date:</th>             <td>Thu, 08 Feb 2024</td> <th>  Prob (F-statistic):</th>  <td>  0.00</td> \n",
       "</tr>\n",
       "<tr>\n",
       "  <th>Time:</th>                 <td>10:33:57</td>     <th>  Log-Likelihood:    </th> <td> -2252.8</td>\n",
       "</tr>\n",
       "<tr>\n",
       "  <th>No. Observations:</th>      <td>  4746</td>      <th>  AIC:               </th> <td>   4542.</td>\n",
       "</tr>\n",
       "<tr>\n",
       "  <th>Df Residuals:</th>          <td>  4728</td>      <th>  BIC:               </th> <td>   4658.</td>\n",
       "</tr>\n",
       "<tr>\n",
       "  <th>Df Model:</th>              <td>    17</td>      <th>                     </th>     <td> </td>   \n",
       "</tr>\n",
       "<tr>\n",
       "  <th>Covariance Type:</th>      <td>nonrobust</td>    <th>                     </th>     <td> </td>   \n",
       "</tr>\n",
       "</table>\n",
       "<table class=\"simpletable\">\n",
       "<tr>\n",
       "                  <td></td>                     <th>coef</th>     <th>std err</th>      <th>t</th>      <th>P>|t|</th>  <th>[0.025</th>    <th>0.975]</th>  \n",
       "</tr>\n",
       "<tr>\n",
       "  <th>const</th>                             <td>    8.9656</td> <td>    0.034</td> <td>  261.626</td> <td> 0.000</td> <td>    8.898</td> <td>    9.033</td>\n",
       "</tr>\n",
       "<tr>\n",
       "  <th>BHK</th>                               <td>    0.1929</td> <td>    0.013</td> <td>   15.101</td> <td> 0.000</td> <td>    0.168</td> <td>    0.218</td>\n",
       "</tr>\n",
       "<tr>\n",
       "  <th>Size</th>                              <td>    0.0004</td> <td> 1.66e-05</td> <td>   26.905</td> <td> 0.000</td> <td>    0.000</td> <td>    0.000</td>\n",
       "</tr>\n",
       "<tr>\n",
       "  <th>Bathroom</th>                          <td>    0.1746</td> <td>    0.013</td> <td>   13.192</td> <td> 0.000</td> <td>    0.149</td> <td>    0.201</td>\n",
       "</tr>\n",
       "<tr>\n",
       "  <th>Floor_Num</th>                         <td>    0.0033</td> <td>    0.002</td> <td>    1.439</td> <td> 0.150</td> <td>   -0.001</td> <td>    0.008</td>\n",
       "</tr>\n",
       "<tr>\n",
       "  <th>Floor_Count</th>                       <td>    0.0054</td> <td>    0.001</td> <td>    3.902</td> <td> 0.000</td> <td>    0.003</td> <td>    0.008</td>\n",
       "</tr>\n",
       "<tr>\n",
       "  <th>Area Type_Carpet Area</th>             <td>    0.0392</td> <td>    0.015</td> <td>    2.689</td> <td> 0.007</td> <td>    0.011</td> <td>    0.068</td>\n",
       "</tr>\n",
       "<tr>\n",
       "  <th>City_Chennai</th>                      <td>   -0.0348</td> <td>    0.019</td> <td>   -1.851</td> <td> 0.064</td> <td>   -0.072</td> <td>    0.002</td>\n",
       "</tr>\n",
       "<tr>\n",
       "  <th>City_Delhi</th>                        <td>    0.1936</td> <td>    0.022</td> <td>    8.983</td> <td> 0.000</td> <td>    0.151</td> <td>    0.236</td>\n",
       "</tr>\n",
       "<tr>\n",
       "  <th>City_Hyderabad</th>                    <td>   -0.1500</td> <td>    0.019</td> <td>   -7.851</td> <td> 0.000</td> <td>   -0.187</td> <td>   -0.113</td>\n",
       "</tr>\n",
       "<tr>\n",
       "  <th>City_Kolkata</th>                      <td>   -0.2710</td> <td>    0.023</td> <td>  -11.988</td> <td> 0.000</td> <td>   -0.315</td> <td>   -0.227</td>\n",
       "</tr>\n",
       "<tr>\n",
       "  <th>City_Mumbai</th>                       <td>    0.8835</td> <td>    0.023</td> <td>   37.686</td> <td> 0.000</td> <td>    0.838</td> <td>    0.930</td>\n",
       "</tr>\n",
       "<tr>\n",
       "  <th>Furnishing Status_Semi-Furnished</th>  <td>   -0.1891</td> <td>    0.017</td> <td>  -10.889</td> <td> 0.000</td> <td>   -0.223</td> <td>   -0.155</td>\n",
       "</tr>\n",
       "<tr>\n",
       "  <th>Furnishing Status_Unfurnished</th>     <td>   -0.2851</td> <td>    0.018</td> <td>  -15.799</td> <td> 0.000</td> <td>   -0.320</td> <td>   -0.250</td>\n",
       "</tr>\n",
       "<tr>\n",
       "  <th>Tenant Preferred_Bachelors/Family</th> <td>   -0.0399</td> <td>    0.016</td> <td>   -2.429</td> <td> 0.015</td> <td>   -0.072</td> <td>   -0.008</td>\n",
       "</tr>\n",
       "<tr>\n",
       "  <th>Tenant Preferred_Family</th>           <td>   -0.1147</td> <td>    0.023</td> <td>   -4.948</td> <td> 0.000</td> <td>   -0.160</td> <td>   -0.069</td>\n",
       "</tr>\n",
       "<tr>\n",
       "  <th>Point of Contact_Contact Builder</th>  <td>   -0.4387</td> <td>    0.391</td> <td>   -1.123</td> <td> 0.261</td> <td>   -1.204</td> <td>    0.327</td>\n",
       "</tr>\n",
       "<tr>\n",
       "  <th>Point of Contact_Contact Owner</th>    <td>   -0.3418</td> <td>    0.017</td> <td>  -19.560</td> <td> 0.000</td> <td>   -0.376</td> <td>   -0.308</td>\n",
       "</tr>\n",
       "</table>\n",
       "<table class=\"simpletable\">\n",
       "<tr>\n",
       "  <th>Omnibus:</th>       <td>512.813</td> <th>  Durbin-Watson:     </th> <td>   1.947</td>\n",
       "</tr>\n",
       "<tr>\n",
       "  <th>Prob(Omnibus):</th> <td> 0.000</td>  <th>  Jarque-Bera (JB):  </th> <td>2530.370</td>\n",
       "</tr>\n",
       "<tr>\n",
       "  <th>Skew:</th>          <td> 0.409</td>  <th>  Prob(JB):          </th> <td>    0.00</td>\n",
       "</tr>\n",
       "<tr>\n",
       "  <th>Kurtosis:</th>      <td> 6.482</td>  <th>  Cond. No.          </th> <td>7.76e+04</td>\n",
       "</tr>\n",
       "</table><br/><br/>Notes:<br/>[1] Standard Errors assume that the covariance matrix of the errors is correctly specified.<br/>[2] The condition number is large, 7.76e+04. This might indicate that there are<br/>strong multicollinearity or other numerical problems."
      ],
      "text/latex": [
       "\\begin{center}\n",
       "\\begin{tabular}{lclc}\n",
       "\\toprule\n",
       "\\textbf{Dep. Variable:}                     &       Rent       & \\textbf{  R-squared:         } &     0.821   \\\\\n",
       "\\textbf{Model:}                             &       OLS        & \\textbf{  Adj. R-squared:    } &     0.820   \\\\\n",
       "\\textbf{Method:}                            &  Least Squares   & \\textbf{  F-statistic:       } &     1277.   \\\\\n",
       "\\textbf{Date:}                              & Thu, 08 Feb 2024 & \\textbf{  Prob (F-statistic):} &     0.00    \\\\\n",
       "\\textbf{Time:}                              &     10:33:57     & \\textbf{  Log-Likelihood:    } &   -2252.8   \\\\\n",
       "\\textbf{No. Observations:}                  &        4746      & \\textbf{  AIC:               } &     4542.   \\\\\n",
       "\\textbf{Df Residuals:}                      &        4728      & \\textbf{  BIC:               } &     4658.   \\\\\n",
       "\\textbf{Df Model:}                          &          17      & \\textbf{                     } &             \\\\\n",
       "\\textbf{Covariance Type:}                   &    nonrobust     & \\textbf{                     } &             \\\\\n",
       "\\bottomrule\n",
       "\\end{tabular}\n",
       "\\begin{tabular}{lcccccc}\n",
       "                                            & \\textbf{coef} & \\textbf{std err} & \\textbf{t} & \\textbf{P$> |$t$|$} & \\textbf{[0.025} & \\textbf{0.975]}  \\\\\n",
       "\\midrule\n",
       "\\textbf{const}                              &       8.9656  &        0.034     &   261.626  &         0.000        &        8.898    &        9.033     \\\\\n",
       "\\textbf{BHK}                                &       0.1929  &        0.013     &    15.101  &         0.000        &        0.168    &        0.218     \\\\\n",
       "\\textbf{Size}                               &       0.0004  &     1.66e-05     &    26.905  &         0.000        &        0.000    &        0.000     \\\\\n",
       "\\textbf{Bathroom}                           &       0.1746  &        0.013     &    13.192  &         0.000        &        0.149    &        0.201     \\\\\n",
       "\\textbf{Floor\\_Num}                         &       0.0033  &        0.002     &     1.439  &         0.150        &       -0.001    &        0.008     \\\\\n",
       "\\textbf{Floor\\_Count}                       &       0.0054  &        0.001     &     3.902  &         0.000        &        0.003    &        0.008     \\\\\n",
       "\\textbf{Area Type\\_Carpet Area}             &       0.0392  &        0.015     &     2.689  &         0.007        &        0.011    &        0.068     \\\\\n",
       "\\textbf{City\\_Chennai}                      &      -0.0348  &        0.019     &    -1.851  &         0.064        &       -0.072    &        0.002     \\\\\n",
       "\\textbf{City\\_Delhi}                        &       0.1936  &        0.022     &     8.983  &         0.000        &        0.151    &        0.236     \\\\\n",
       "\\textbf{City\\_Hyderabad}                    &      -0.1500  &        0.019     &    -7.851  &         0.000        &       -0.187    &       -0.113     \\\\\n",
       "\\textbf{City\\_Kolkata}                      &      -0.2710  &        0.023     &   -11.988  &         0.000        &       -0.315    &       -0.227     \\\\\n",
       "\\textbf{City\\_Mumbai}                       &       0.8835  &        0.023     &    37.686  &         0.000        &        0.838    &        0.930     \\\\\n",
       "\\textbf{Furnishing Status\\_Semi-Furnished}  &      -0.1891  &        0.017     &   -10.889  &         0.000        &       -0.223    &       -0.155     \\\\\n",
       "\\textbf{Furnishing Status\\_Unfurnished}     &      -0.2851  &        0.018     &   -15.799  &         0.000        &       -0.320    &       -0.250     \\\\\n",
       "\\textbf{Tenant Preferred\\_Bachelors/Family} &      -0.0399  &        0.016     &    -2.429  &         0.015        &       -0.072    &       -0.008     \\\\\n",
       "\\textbf{Tenant Preferred\\_Family}           &      -0.1147  &        0.023     &    -4.948  &         0.000        &       -0.160    &       -0.069     \\\\\n",
       "\\textbf{Point of Contact\\_Contact Builder}  &      -0.4387  &        0.391     &    -1.123  &         0.261        &       -1.204    &        0.327     \\\\\n",
       "\\textbf{Point of Contact\\_Contact Owner}    &      -0.3418  &        0.017     &   -19.560  &         0.000        &       -0.376    &       -0.308     \\\\\n",
       "\\bottomrule\n",
       "\\end{tabular}\n",
       "\\begin{tabular}{lclc}\n",
       "\\textbf{Omnibus:}       & 512.813 & \\textbf{  Durbin-Watson:     } &    1.947  \\\\\n",
       "\\textbf{Prob(Omnibus):} &   0.000 & \\textbf{  Jarque-Bera (JB):  } & 2530.370  \\\\\n",
       "\\textbf{Skew:}          &   0.409 & \\textbf{  Prob(JB):          } &     0.00  \\\\\n",
       "\\textbf{Kurtosis:}      &   6.482 & \\textbf{  Cond. No.          } & 7.76e+04  \\\\\n",
       "\\bottomrule\n",
       "\\end{tabular}\n",
       "%\\caption{OLS Regression Results}\n",
       "\\end{center}\n",
       "\n",
       "Notes: \\newline\n",
       " [1] Standard Errors assume that the covariance matrix of the errors is correctly specified. \\newline\n",
       " [2] The condition number is large, 7.76e+04. This might indicate that there are \\newline\n",
       " strong multicollinearity or other numerical problems."
      ],
      "text/plain": [
       "<class 'statsmodels.iolib.summary.Summary'>\n",
       "\"\"\"\n",
       "                            OLS Regression Results                            \n",
       "==============================================================================\n",
       "Dep. Variable:                   Rent   R-squared:                       0.821\n",
       "Model:                            OLS   Adj. R-squared:                  0.820\n",
       "Method:                 Least Squares   F-statistic:                     1277.\n",
       "Date:                Thu, 08 Feb 2024   Prob (F-statistic):               0.00\n",
       "Time:                        10:33:57   Log-Likelihood:                -2252.8\n",
       "No. Observations:                4746   AIC:                             4542.\n",
       "Df Residuals:                    4728   BIC:                             4658.\n",
       "Df Model:                          17                                         \n",
       "Covariance Type:            nonrobust                                         \n",
       "=====================================================================================================\n",
       "                                        coef    std err          t      P>|t|      [0.025      0.975]\n",
       "-----------------------------------------------------------------------------------------------------\n",
       "const                                 8.9656      0.034    261.626      0.000       8.898       9.033\n",
       "BHK                                   0.1929      0.013     15.101      0.000       0.168       0.218\n",
       "Size                                  0.0004   1.66e-05     26.905      0.000       0.000       0.000\n",
       "Bathroom                              0.1746      0.013     13.192      0.000       0.149       0.201\n",
       "Floor_Num                             0.0033      0.002      1.439      0.150      -0.001       0.008\n",
       "Floor_Count                           0.0054      0.001      3.902      0.000       0.003       0.008\n",
       "Area Type_Carpet Area                 0.0392      0.015      2.689      0.007       0.011       0.068\n",
       "City_Chennai                         -0.0348      0.019     -1.851      0.064      -0.072       0.002\n",
       "City_Delhi                            0.1936      0.022      8.983      0.000       0.151       0.236\n",
       "City_Hyderabad                       -0.1500      0.019     -7.851      0.000      -0.187      -0.113\n",
       "City_Kolkata                         -0.2710      0.023    -11.988      0.000      -0.315      -0.227\n",
       "City_Mumbai                           0.8835      0.023     37.686      0.000       0.838       0.930\n",
       "Furnishing Status_Semi-Furnished     -0.1891      0.017    -10.889      0.000      -0.223      -0.155\n",
       "Furnishing Status_Unfurnished        -0.2851      0.018    -15.799      0.000      -0.320      -0.250\n",
       "Tenant Preferred_Bachelors/Family    -0.0399      0.016     -2.429      0.015      -0.072      -0.008\n",
       "Tenant Preferred_Family              -0.1147      0.023     -4.948      0.000      -0.160      -0.069\n",
       "Point of Contact_Contact Builder     -0.4387      0.391     -1.123      0.261      -1.204       0.327\n",
       "Point of Contact_Contact Owner       -0.3418      0.017    -19.560      0.000      -0.376      -0.308\n",
       "==============================================================================\n",
       "Omnibus:                      512.813   Durbin-Watson:                   1.947\n",
       "Prob(Omnibus):                  0.000   Jarque-Bera (JB):             2530.370\n",
       "Skew:                           0.409   Prob(JB):                         0.00\n",
       "Kurtosis:                       6.482   Cond. No.                     7.76e+04\n",
       "==============================================================================\n",
       "\n",
       "Notes:\n",
       "[1] Standard Errors assume that the covariance matrix of the errors is correctly specified.\n",
       "[2] The condition number is large, 7.76e+04. This might indicate that there are\n",
       "strong multicollinearity or other numerical problems.\n",
       "\"\"\""
      ]
     },
     "execution_count": 68,
     "metadata": {},
     "output_type": "execute_result"
    }
   ],
   "source": [
    "x2=sm.add_constant(x2)\n",
    "ols_m2=sm.OLS(y2,x2).fit()\n",
    "ols_m2.summary()"
   ]
  },
  {
   "cell_type": "code",
   "execution_count": 69,
   "id": "6914a645",
   "metadata": {},
   "outputs": [
    {
     "name": "stdout",
     "output_type": "stream",
     "text": [
      "OLS_M1\n",
      "0.6298795563521852\n",
      "0.6284701702752525\n",
      "OLS_M2\n",
      "0.8211344462853629\n",
      "0.820491317179367\n"
     ]
    }
   ],
   "source": [
    "print('OLS_M1')\n",
    "print(ols_m1.rsquared)\n",
    "print(ols_m1.rsquared_adj)\n",
    "\n",
    "print('OLS_M2')\n",
    "print(ols_m2.rsquared)\n",
    "print(ols_m2.rsquared_adj)"
   ]
  },
  {
   "cell_type": "markdown",
   "id": "97d308b3",
   "metadata": {},
   "source": [
    "## Linear Regression"
   ]
  },
  {
   "cell_type": "code",
   "execution_count": 70,
   "id": "bbac5174",
   "metadata": {},
   "outputs": [
    {
     "name": "stdout",
     "output_type": "stream",
     "text": [
      "(4746, 16)\n",
      "(4746,)\n"
     ]
    }
   ],
   "source": [
    "x3=x.drop(['Area Type_Super Area','Point of Contact_Contact Builder'],axis=1)\n",
    "y3=np.log(y)\n",
    "print(x3.shape)\n",
    "print(y3.shape)"
   ]
  },
  {
   "cell_type": "markdown",
   "id": "cce9f58d",
   "metadata": {},
   "source": [
    "### Split data into train and test"
   ]
  },
  {
   "cell_type": "code",
   "execution_count": 71,
   "id": "10aa60ae",
   "metadata": {},
   "outputs": [],
   "source": [
    "from sklearn.model_selection import train_test_split"
   ]
  },
  {
   "cell_type": "code",
   "execution_count": 72,
   "id": "13a21ba6",
   "metadata": {},
   "outputs": [
    {
     "name": "stdout",
     "output_type": "stream",
     "text": [
      "(3322, 16)\n",
      "(1424, 16)\n",
      "(3322,)\n",
      "(1424,)\n"
     ]
    }
   ],
   "source": [
    "x_train,x_test,y_train,y_test=train_test_split(x3,y3,test_size=0.3,random_state=100)\n",
    "print(x_train.shape)\n",
    "print(x_test.shape)\n",
    "print(y_train.shape)\n",
    "print(y_test.shape)"
   ]
  },
  {
   "cell_type": "code",
   "execution_count": 73,
   "id": "4ad4d466",
   "metadata": {},
   "outputs": [],
   "source": [
    "from sklearn.metrics import *\n",
    "from sklearn.linear_model import LinearRegression,Ridge,Lasso"
   ]
  },
  {
   "cell_type": "code",
   "execution_count": 74,
   "id": "7f8eaf96",
   "metadata": {},
   "outputs": [],
   "source": [
    "def eval_model(ytest,ypred):\n",
    "    mae=mean_absolute_error(ytest,ypred)\n",
    "    mse=mean_squared_error(ytest,ypred)\n",
    "    rmse=np.sqrt(mse)\n",
    "    print(\"MAE:\",mae,\"MSE:\",mse,\"RMSE:\",rmse)\n",
    "    "
   ]
  },
  {
   "cell_type": "code",
   "execution_count": 75,
   "id": "57ed4f51",
   "metadata": {},
   "outputs": [
    {
     "data": {
      "text/html": [
       "<style>#sk-container-id-1 {color: black;}#sk-container-id-1 pre{padding: 0;}#sk-container-id-1 div.sk-toggleable {background-color: white;}#sk-container-id-1 label.sk-toggleable__label {cursor: pointer;display: block;width: 100%;margin-bottom: 0;padding: 0.3em;box-sizing: border-box;text-align: center;}#sk-container-id-1 label.sk-toggleable__label-arrow:before {content: \"▸\";float: left;margin-right: 0.25em;color: #696969;}#sk-container-id-1 label.sk-toggleable__label-arrow:hover:before {color: black;}#sk-container-id-1 div.sk-estimator:hover label.sk-toggleable__label-arrow:before {color: black;}#sk-container-id-1 div.sk-toggleable__content {max-height: 0;max-width: 0;overflow: hidden;text-align: left;background-color: #f0f8ff;}#sk-container-id-1 div.sk-toggleable__content pre {margin: 0.2em;color: black;border-radius: 0.25em;background-color: #f0f8ff;}#sk-container-id-1 input.sk-toggleable__control:checked~div.sk-toggleable__content {max-height: 200px;max-width: 100%;overflow: auto;}#sk-container-id-1 input.sk-toggleable__control:checked~label.sk-toggleable__label-arrow:before {content: \"▾\";}#sk-container-id-1 div.sk-estimator input.sk-toggleable__control:checked~label.sk-toggleable__label {background-color: #d4ebff;}#sk-container-id-1 div.sk-label input.sk-toggleable__control:checked~label.sk-toggleable__label {background-color: #d4ebff;}#sk-container-id-1 input.sk-hidden--visually {border: 0;clip: rect(1px 1px 1px 1px);clip: rect(1px, 1px, 1px, 1px);height: 1px;margin: -1px;overflow: hidden;padding: 0;position: absolute;width: 1px;}#sk-container-id-1 div.sk-estimator {font-family: monospace;background-color: #f0f8ff;border: 1px dotted black;border-radius: 0.25em;box-sizing: border-box;margin-bottom: 0.5em;}#sk-container-id-1 div.sk-estimator:hover {background-color: #d4ebff;}#sk-container-id-1 div.sk-parallel-item::after {content: \"\";width: 100%;border-bottom: 1px solid gray;flex-grow: 1;}#sk-container-id-1 div.sk-label:hover label.sk-toggleable__label {background-color: #d4ebff;}#sk-container-id-1 div.sk-serial::before {content: \"\";position: absolute;border-left: 1px solid gray;box-sizing: border-box;top: 0;bottom: 0;left: 50%;z-index: 0;}#sk-container-id-1 div.sk-serial {display: flex;flex-direction: column;align-items: center;background-color: white;padding-right: 0.2em;padding-left: 0.2em;position: relative;}#sk-container-id-1 div.sk-item {position: relative;z-index: 1;}#sk-container-id-1 div.sk-parallel {display: flex;align-items: stretch;justify-content: center;background-color: white;position: relative;}#sk-container-id-1 div.sk-item::before, #sk-container-id-1 div.sk-parallel-item::before {content: \"\";position: absolute;border-left: 1px solid gray;box-sizing: border-box;top: 0;bottom: 0;left: 50%;z-index: -1;}#sk-container-id-1 div.sk-parallel-item {display: flex;flex-direction: column;z-index: 1;position: relative;background-color: white;}#sk-container-id-1 div.sk-parallel-item:first-child::after {align-self: flex-end;width: 50%;}#sk-container-id-1 div.sk-parallel-item:last-child::after {align-self: flex-start;width: 50%;}#sk-container-id-1 div.sk-parallel-item:only-child::after {width: 0;}#sk-container-id-1 div.sk-dashed-wrapped {border: 1px dashed gray;margin: 0 0.4em 0.5em 0.4em;box-sizing: border-box;padding-bottom: 0.4em;background-color: white;}#sk-container-id-1 div.sk-label label {font-family: monospace;font-weight: bold;display: inline-block;line-height: 1.2em;}#sk-container-id-1 div.sk-label-container {text-align: center;}#sk-container-id-1 div.sk-container {/* jupyter's `normalize.less` sets `[hidden] { display: none; }` but bootstrap.min.css set `[hidden] { display: none !important; }` so we also need the `!important` here to be able to override the default hidden behavior on the sphinx rendered scikit-learn.org. See: https://github.com/scikit-learn/scikit-learn/issues/21755 */display: inline-block !important;position: relative;}#sk-container-id-1 div.sk-text-repr-fallback {display: none;}</style><div id=\"sk-container-id-1\" class=\"sk-top-container\"><div class=\"sk-text-repr-fallback\"><pre>LinearRegression()</pre><b>In a Jupyter environment, please rerun this cell to show the HTML representation or trust the notebook. <br />On GitHub, the HTML representation is unable to render, please try loading this page with nbviewer.org.</b></div><div class=\"sk-container\" hidden><div class=\"sk-item\"><div class=\"sk-estimator sk-toggleable\"><input class=\"sk-toggleable__control sk-hidden--visually\" id=\"sk-estimator-id-1\" type=\"checkbox\" checked><label for=\"sk-estimator-id-1\" class=\"sk-toggleable__label sk-toggleable__label-arrow\">LinearRegression</label><div class=\"sk-toggleable__content\"><pre>LinearRegression()</pre></div></div></div></div></div>"
      ],
      "text/plain": [
       "LinearRegression()"
      ]
     },
     "execution_count": 75,
     "metadata": {},
     "output_type": "execute_result"
    }
   ],
   "source": [
    "lr1=LinearRegression()\n",
    "lr1.fit(x_train,y_train)"
   ]
  },
  {
   "cell_type": "code",
   "execution_count": 76,
   "id": "a36e9f7f",
   "metadata": {},
   "outputs": [
    {
     "name": "stdout",
     "output_type": "stream",
     "text": [
      "Train_Score: 0.8230475790126242\n",
      "Test_Score: 0.8152711009646035\n"
     ]
    }
   ],
   "source": [
    "print('Train_Score:',lr1.score(x_train,y_train))      # R2_Score\n",
    "print('Test_Score:',lr1.score(x_test,y_test))         # R2_Score"
   ]
  },
  {
   "cell_type": "code",
   "execution_count": 77,
   "id": "4e414c69",
   "metadata": {},
   "outputs": [
    {
     "name": "stdout",
     "output_type": "stream",
     "text": [
      "MAE: 0.2954146216993261 MSE: 0.1562791367780347 RMSE: 0.39532156123595724\n"
     ]
    }
   ],
   "source": [
    "ypred_lr1=lr1.predict(x_test)\n",
    "eval_model(y_test,ypred_lr1)"
   ]
  },
  {
   "cell_type": "code",
   "execution_count": 78,
   "id": "a5d0ac58",
   "metadata": {},
   "outputs": [
    {
     "name": "stdout",
     "output_type": "stream",
     "text": [
      "[ 1.85935114e-01  4.75729587e-04  1.69875736e-01  1.72934663e-03\n",
      "  5.93130605e-03  3.44011378e-02 -3.95063229e-02  1.95167934e-01\n",
      " -1.49415658e-01 -2.68040659e-01  8.96067409e-01 -2.08374393e-01\n",
      " -3.03907193e-01 -1.86233492e-02 -9.66864766e-02 -3.38640727e-01]\n",
      "8.96619297614795\n"
     ]
    }
   ],
   "source": [
    "m_lr1=lr1.coef_\n",
    "c_lr1=lr1.intercept_\n",
    "print(m_lr1)\n",
    "print(c_lr1)"
   ]
  },
  {
   "cell_type": "code",
   "execution_count": 79,
   "id": "dfb9013b",
   "metadata": {},
   "outputs": [],
   "source": [
    "# Comparin"
   ]
  },
  {
   "cell_type": "markdown",
   "id": "d2d3a169",
   "metadata": {},
   "source": [
    "## Overfitting an Underfitting\n",
    "\n",
    "\n"
   ]
  },
  {
   "cell_type": "markdown",
   "id": "aa15d40c",
   "metadata": {},
   "source": [
    "# Ridg Reg"
   ]
  },
  {
   "cell_type": "code",
   "execution_count": 80,
   "id": "5637b16b",
   "metadata": {},
   "outputs": [
    {
     "data": {
      "text/html": [
       "<style>#sk-container-id-2 {color: black;}#sk-container-id-2 pre{padding: 0;}#sk-container-id-2 div.sk-toggleable {background-color: white;}#sk-container-id-2 label.sk-toggleable__label {cursor: pointer;display: block;width: 100%;margin-bottom: 0;padding: 0.3em;box-sizing: border-box;text-align: center;}#sk-container-id-2 label.sk-toggleable__label-arrow:before {content: \"▸\";float: left;margin-right: 0.25em;color: #696969;}#sk-container-id-2 label.sk-toggleable__label-arrow:hover:before {color: black;}#sk-container-id-2 div.sk-estimator:hover label.sk-toggleable__label-arrow:before {color: black;}#sk-container-id-2 div.sk-toggleable__content {max-height: 0;max-width: 0;overflow: hidden;text-align: left;background-color: #f0f8ff;}#sk-container-id-2 div.sk-toggleable__content pre {margin: 0.2em;color: black;border-radius: 0.25em;background-color: #f0f8ff;}#sk-container-id-2 input.sk-toggleable__control:checked~div.sk-toggleable__content {max-height: 200px;max-width: 100%;overflow: auto;}#sk-container-id-2 input.sk-toggleable__control:checked~label.sk-toggleable__label-arrow:before {content: \"▾\";}#sk-container-id-2 div.sk-estimator input.sk-toggleable__control:checked~label.sk-toggleable__label {background-color: #d4ebff;}#sk-container-id-2 div.sk-label input.sk-toggleable__control:checked~label.sk-toggleable__label {background-color: #d4ebff;}#sk-container-id-2 input.sk-hidden--visually {border: 0;clip: rect(1px 1px 1px 1px);clip: rect(1px, 1px, 1px, 1px);height: 1px;margin: -1px;overflow: hidden;padding: 0;position: absolute;width: 1px;}#sk-container-id-2 div.sk-estimator {font-family: monospace;background-color: #f0f8ff;border: 1px dotted black;border-radius: 0.25em;box-sizing: border-box;margin-bottom: 0.5em;}#sk-container-id-2 div.sk-estimator:hover {background-color: #d4ebff;}#sk-container-id-2 div.sk-parallel-item::after {content: \"\";width: 100%;border-bottom: 1px solid gray;flex-grow: 1;}#sk-container-id-2 div.sk-label:hover label.sk-toggleable__label {background-color: #d4ebff;}#sk-container-id-2 div.sk-serial::before {content: \"\";position: absolute;border-left: 1px solid gray;box-sizing: border-box;top: 0;bottom: 0;left: 50%;z-index: 0;}#sk-container-id-2 div.sk-serial {display: flex;flex-direction: column;align-items: center;background-color: white;padding-right: 0.2em;padding-left: 0.2em;position: relative;}#sk-container-id-2 div.sk-item {position: relative;z-index: 1;}#sk-container-id-2 div.sk-parallel {display: flex;align-items: stretch;justify-content: center;background-color: white;position: relative;}#sk-container-id-2 div.sk-item::before, #sk-container-id-2 div.sk-parallel-item::before {content: \"\";position: absolute;border-left: 1px solid gray;box-sizing: border-box;top: 0;bottom: 0;left: 50%;z-index: -1;}#sk-container-id-2 div.sk-parallel-item {display: flex;flex-direction: column;z-index: 1;position: relative;background-color: white;}#sk-container-id-2 div.sk-parallel-item:first-child::after {align-self: flex-end;width: 50%;}#sk-container-id-2 div.sk-parallel-item:last-child::after {align-self: flex-start;width: 50%;}#sk-container-id-2 div.sk-parallel-item:only-child::after {width: 0;}#sk-container-id-2 div.sk-dashed-wrapped {border: 1px dashed gray;margin: 0 0.4em 0.5em 0.4em;box-sizing: border-box;padding-bottom: 0.4em;background-color: white;}#sk-container-id-2 div.sk-label label {font-family: monospace;font-weight: bold;display: inline-block;line-height: 1.2em;}#sk-container-id-2 div.sk-label-container {text-align: center;}#sk-container-id-2 div.sk-container {/* jupyter's `normalize.less` sets `[hidden] { display: none; }` but bootstrap.min.css set `[hidden] { display: none !important; }` so we also need the `!important` here to be able to override the default hidden behavior on the sphinx rendered scikit-learn.org. See: https://github.com/scikit-learn/scikit-learn/issues/21755 */display: inline-block !important;position: relative;}#sk-container-id-2 div.sk-text-repr-fallback {display: none;}</style><div id=\"sk-container-id-2\" class=\"sk-top-container\"><div class=\"sk-text-repr-fallback\"><pre>Ridge(alpha=0.578)</pre><b>In a Jupyter environment, please rerun this cell to show the HTML representation or trust the notebook. <br />On GitHub, the HTML representation is unable to render, please try loading this page with nbviewer.org.</b></div><div class=\"sk-container\" hidden><div class=\"sk-item\"><div class=\"sk-estimator sk-toggleable\"><input class=\"sk-toggleable__control sk-hidden--visually\" id=\"sk-estimator-id-2\" type=\"checkbox\" checked><label for=\"sk-estimator-id-2\" class=\"sk-toggleable__label sk-toggleable__label-arrow\">Ridge</label><div class=\"sk-toggleable__content\"><pre>Ridge(alpha=0.578)</pre></div></div></div></div></div>"
      ],
      "text/plain": [
       "Ridge(alpha=0.578)"
      ]
     },
     "execution_count": 80,
     "metadata": {},
     "output_type": "execute_result"
    }
   ],
   "source": [
    "rid1=Ridge(alpha=0.578)\n",
    "rid1.fit(x_train,y_train)"
   ]
  },
  {
   "cell_type": "code",
   "execution_count": 81,
   "id": "a80fea9a",
   "metadata": {},
   "outputs": [
    {
     "name": "stdout",
     "output_type": "stream",
     "text": [
      "Train_Score: 0.8230470979494565\n",
      "Test_Score: 0.8152922974000602\n"
     ]
    }
   ],
   "source": [
    "print('Train_Score:',rid1.score(x_train,y_train))      # R2_Score\n",
    "print('Test_Score:',rid1.score(x_test,y_test)) "
   ]
  },
  {
   "cell_type": "markdown",
   "id": "f8a3814d",
   "metadata": {},
   "source": [
    "# Lasso "
   ]
  },
  {
   "cell_type": "code",
   "execution_count": 82,
   "id": "14bf03b8",
   "metadata": {},
   "outputs": [
    {
     "data": {
      "text/html": [
       "<style>#sk-container-id-3 {color: black;}#sk-container-id-3 pre{padding: 0;}#sk-container-id-3 div.sk-toggleable {background-color: white;}#sk-container-id-3 label.sk-toggleable__label {cursor: pointer;display: block;width: 100%;margin-bottom: 0;padding: 0.3em;box-sizing: border-box;text-align: center;}#sk-container-id-3 label.sk-toggleable__label-arrow:before {content: \"▸\";float: left;margin-right: 0.25em;color: #696969;}#sk-container-id-3 label.sk-toggleable__label-arrow:hover:before {color: black;}#sk-container-id-3 div.sk-estimator:hover label.sk-toggleable__label-arrow:before {color: black;}#sk-container-id-3 div.sk-toggleable__content {max-height: 0;max-width: 0;overflow: hidden;text-align: left;background-color: #f0f8ff;}#sk-container-id-3 div.sk-toggleable__content pre {margin: 0.2em;color: black;border-radius: 0.25em;background-color: #f0f8ff;}#sk-container-id-3 input.sk-toggleable__control:checked~div.sk-toggleable__content {max-height: 200px;max-width: 100%;overflow: auto;}#sk-container-id-3 input.sk-toggleable__control:checked~label.sk-toggleable__label-arrow:before {content: \"▾\";}#sk-container-id-3 div.sk-estimator input.sk-toggleable__control:checked~label.sk-toggleable__label {background-color: #d4ebff;}#sk-container-id-3 div.sk-label input.sk-toggleable__control:checked~label.sk-toggleable__label {background-color: #d4ebff;}#sk-container-id-3 input.sk-hidden--visually {border: 0;clip: rect(1px 1px 1px 1px);clip: rect(1px, 1px, 1px, 1px);height: 1px;margin: -1px;overflow: hidden;padding: 0;position: absolute;width: 1px;}#sk-container-id-3 div.sk-estimator {font-family: monospace;background-color: #f0f8ff;border: 1px dotted black;border-radius: 0.25em;box-sizing: border-box;margin-bottom: 0.5em;}#sk-container-id-3 div.sk-estimator:hover {background-color: #d4ebff;}#sk-container-id-3 div.sk-parallel-item::after {content: \"\";width: 100%;border-bottom: 1px solid gray;flex-grow: 1;}#sk-container-id-3 div.sk-label:hover label.sk-toggleable__label {background-color: #d4ebff;}#sk-container-id-3 div.sk-serial::before {content: \"\";position: absolute;border-left: 1px solid gray;box-sizing: border-box;top: 0;bottom: 0;left: 50%;z-index: 0;}#sk-container-id-3 div.sk-serial {display: flex;flex-direction: column;align-items: center;background-color: white;padding-right: 0.2em;padding-left: 0.2em;position: relative;}#sk-container-id-3 div.sk-item {position: relative;z-index: 1;}#sk-container-id-3 div.sk-parallel {display: flex;align-items: stretch;justify-content: center;background-color: white;position: relative;}#sk-container-id-3 div.sk-item::before, #sk-container-id-3 div.sk-parallel-item::before {content: \"\";position: absolute;border-left: 1px solid gray;box-sizing: border-box;top: 0;bottom: 0;left: 50%;z-index: -1;}#sk-container-id-3 div.sk-parallel-item {display: flex;flex-direction: column;z-index: 1;position: relative;background-color: white;}#sk-container-id-3 div.sk-parallel-item:first-child::after {align-self: flex-end;width: 50%;}#sk-container-id-3 div.sk-parallel-item:last-child::after {align-self: flex-start;width: 50%;}#sk-container-id-3 div.sk-parallel-item:only-child::after {width: 0;}#sk-container-id-3 div.sk-dashed-wrapped {border: 1px dashed gray;margin: 0 0.4em 0.5em 0.4em;box-sizing: border-box;padding-bottom: 0.4em;background-color: white;}#sk-container-id-3 div.sk-label label {font-family: monospace;font-weight: bold;display: inline-block;line-height: 1.2em;}#sk-container-id-3 div.sk-label-container {text-align: center;}#sk-container-id-3 div.sk-container {/* jupyter's `normalize.less` sets `[hidden] { display: none; }` but bootstrap.min.css set `[hidden] { display: none !important; }` so we also need the `!important` here to be able to override the default hidden behavior on the sphinx rendered scikit-learn.org. See: https://github.com/scikit-learn/scikit-learn/issues/21755 */display: inline-block !important;position: relative;}#sk-container-id-3 div.sk-text-repr-fallback {display: none;}</style><div id=\"sk-container-id-3\" class=\"sk-top-container\"><div class=\"sk-text-repr-fallback\"><pre>Lasso(alpha=0.785)</pre><b>In a Jupyter environment, please rerun this cell to show the HTML representation or trust the notebook. <br />On GitHub, the HTML representation is unable to render, please try loading this page with nbviewer.org.</b></div><div class=\"sk-container\" hidden><div class=\"sk-item\"><div class=\"sk-estimator sk-toggleable\"><input class=\"sk-toggleable__control sk-hidden--visually\" id=\"sk-estimator-id-3\" type=\"checkbox\" checked><label for=\"sk-estimator-id-3\" class=\"sk-toggleable__label sk-toggleable__label-arrow\">Lasso</label><div class=\"sk-toggleable__content\"><pre>Lasso(alpha=0.785)</pre></div></div></div></div></div>"
      ],
      "text/plain": [
       "Lasso(alpha=0.785)"
      ]
     },
     "execution_count": 82,
     "metadata": {},
     "output_type": "execute_result"
    }
   ],
   "source": [
    "las1=Lasso(alpha=0.785)\n",
    "las1.fit(x_train,y_train)"
   ]
  },
  {
   "cell_type": "code",
   "execution_count": 83,
   "id": "0c8e3c96",
   "metadata": {},
   "outputs": [
    {
     "name": "stdout",
     "output_type": "stream",
     "text": [
      "[ 0.          0.00078902  0.          0.          0.04053605  0.\n",
      " -0.          0.         -0.         -0.          0.          0.\n",
      " -0.         -0.          0.         -0.        ]\n"
     ]
    }
   ],
   "source": [
    "m_las1=las1.coef_\n",
    "\n",
    "print(m_las1)"
   ]
  }
 ],
 "metadata": {
  "kernelspec": {
   "display_name": "Python 3 (ipykernel)",
   "language": "python",
   "name": "python3"
  },
  "language_info": {
   "codemirror_mode": {
    "name": "ipython",
    "version": 3
   },
   "file_extension": ".py",
   "mimetype": "text/x-python",
   "name": "python",
   "nbconvert_exporter": "python",
   "pygments_lexer": "ipython3",
   "version": "3.11.5"
  }
 },
 "nbformat": 4,
 "nbformat_minor": 5
}
